{
 "cells": [
  {
   "cell_type": "code",
   "execution_count": 275,
   "metadata": {
    "collapsed": true
   },
   "outputs": [],
   "source": [
    "from googleapiclient.discovery import build\n",
    "import pandas as pd\n",
    "import numpy as np\n",
    "import csv"
   ]
  },
  {
   "cell_type": "code",
   "execution_count": 279,
   "metadata": {
    "collapsed": true
   },
   "outputs": [],
   "source": [
    "with open(\"api_key.txt\") as file:\n",
    "    api_key = file.read()"
   ]
  },
  {
   "cell_type": "code",
   "execution_count": 249,
   "metadata": {},
   "outputs": [
    {
     "data": {
      "text/plain": [
       "40"
      ]
     },
     "execution_count": 249,
     "metadata": {},
     "output_type": "execute_result"
    }
   ],
   "source": [
    "recipe_list = ['Cinnamon French Toast Recipe',\n",
    "    'Oatmeal Cookies Recipe',\n",
    "    'Waffle Recipe',\n",
    "    'Pork Chop Recipe',\n",
    "    'Cauliflower Pizza Crust Recipe',\n",
    "    'Chocolate Lava Cake Recipe',\n",
    "    'Red Velvet Cake Recipe',\n",
    "    'Shrimp Scampi Recipe',\n",
    "    'Pizza Dough Recipe',\n",
    "    'Apple Crumble Recipe',\n",
    "    'Chicken Marsala Recipe',\n",
    "    'Chicken Fried Steak Recipe',\n",
    "    'Roasted Brussel Sprouts Recipe',\n",
    "    'Cheese Danish Recipe',\n",
    "    'Twice Baked Potatoe Recipe',\n",
    "    'Meatloaf Recipe',\n",
    "    'Broccoli Salad Recipe',\n",
    "    'Mac and Cheese Recipe',\n",
    "    'Stuffed Bell Peppers Recipe',\n",
    "    'Baked Ziti Recipe', 'Lasagna Recipe',\n",
    "    'Chicken Wing Recipe', 'Chicken and Broccoli Recipe',\n",
    "    'Roasted Sweet Potatoe Recipe', 'Shrimp Linguine Recipe',\n",
    "    'Banana Bread Recipe', 'Shepherds Pie Recipe',\n",
    "    'Coconut Cake Recipe', 'Chicken Fajitas Recipe',\n",
    "    'Oven Baked Salmon Recipe', 'Deviled Eggs Recipe',\n",
    "    'Chili Recipe', 'Garlic Roasted Potatoes Recipe', \n",
    "    'Chicken Piccata Recipe', 'Pot Roast Recipe',\n",
    "    'Sweet Potatoe Casserole Recipe', 'Scallops Recipe',\n",
    "    'Carrot Cake Recipe', 'Pancake Recipe', 'Cheesecake Recipe']\n",
    "\n",
    "\n",
    "len(recipe_list)"
   ]
  },
  {
   "cell_type": "code",
   "execution_count": 72,
   "metadata": {
    "collapsed": true
   },
   "outputs": [],
   "source": [
    "youtube = build('youtube', 'v3', developerKey=api_key)"
   ]
  },
  {
   "cell_type": "code",
   "execution_count": 73,
   "metadata": {
    "collapsed": true
   },
   "outputs": [],
   "source": [
    "request = youtube.search().list(q='cinnamon bun recipe', part='snippet', maxResults=5, type='video')"
   ]
  },
  {
   "cell_type": "code",
   "execution_count": 74,
   "metadata": {},
   "outputs": [
    {
     "data": {
      "text/plain": [
       "googleapiclient.http.HttpRequest"
      ]
     },
     "execution_count": 74,
     "metadata": {},
     "output_type": "execute_result"
    }
   ],
   "source": [
    "type(request)"
   ]
  },
  {
   "cell_type": "code",
   "execution_count": 75,
   "metadata": {
    "collapsed": true
   },
   "outputs": [],
   "source": [
    "res = request.execute()"
   ]
  },
  {
   "cell_type": "code",
   "execution_count": 76,
   "metadata": {},
   "outputs": [
    {
     "data": {
      "text/plain": [
       "{'etag': 'mkXn7VZmRBcYXQnJ2BCrjObxhuk',\n",
       " 'items': [{'etag': 'DH7580oye-DkJp5tc467YNFtxPU',\n",
       "   'id': {'kind': 'youtube#video', 'videoId': '_Q0FYoCl4Cs'},\n",
       "   'kind': 'youtube#searchResult',\n",
       "   'snippet': {'channelId': 'UCJFp8uSYCjXOMnkUyb3CQ3Q',\n",
       "    'channelTitle': 'Tasty',\n",
       "    'description': 'Wake up to the smell of cinnamon rolls this Christmas! Get the step-by-step recipe here: https://bzfd.it/2A5blb1 Subscribe to Tasty: https://bzfd.it/2ri82Z1 About ...',\n",
       "    'liveBroadcastContent': 'none',\n",
       "    'publishTime': '2018-12-22T16:00:04Z',\n",
       "    'publishedAt': '2018-12-22T16:00:04Z',\n",
       "    'thumbnails': {'default': {'height': 90,\n",
       "      'url': 'https://i.ytimg.com/vi/_Q0FYoCl4Cs/default.jpg',\n",
       "      'width': 120},\n",
       "     'high': {'height': 360,\n",
       "      'url': 'https://i.ytimg.com/vi/_Q0FYoCl4Cs/hqdefault.jpg',\n",
       "      'width': 480},\n",
       "     'medium': {'height': 180,\n",
       "      'url': 'https://i.ytimg.com/vi/_Q0FYoCl4Cs/mqdefault.jpg',\n",
       "      'width': 320}},\n",
       "    'title': 'How To Make Homemade Cinnamon Rolls • Tasty'}},\n",
       "  {'etag': 'hJ-z1XiIW5Qu_BiyoRnq2twnehc',\n",
       "   'id': {'kind': 'youtube#video', 'videoId': 'idINJ5vHm8Y'},\n",
       "   'kind': 'youtube#searchResult',\n",
       "   'snippet': {'channelId': 'UCXjmSszjqfuEgLR7H5y1IAw',\n",
       "    'channelTitle': 'In The Kitchen With Matt',\n",
       "    'description': \"You can print the recipe here on my website: https://inthekitchenwithmatt.com/amazing-cinnamon-rolls Want to learn how to make some of America's favorite ...\",\n",
       "    'liveBroadcastContent': 'none',\n",
       "    'publishTime': '2015-05-28T22:17:58Z',\n",
       "    'publishedAt': '2015-05-28T22:17:58Z',\n",
       "    'thumbnails': {'default': {'height': 90,\n",
       "      'url': 'https://i.ytimg.com/vi/idINJ5vHm8Y/default.jpg',\n",
       "      'width': 120},\n",
       "     'high': {'height': 360,\n",
       "      'url': 'https://i.ytimg.com/vi/idINJ5vHm8Y/hqdefault.jpg',\n",
       "      'width': 480},\n",
       "     'medium': {'height': 180,\n",
       "      'url': 'https://i.ytimg.com/vi/idINJ5vHm8Y/mqdefault.jpg',\n",
       "      'width': 320}},\n",
       "    'title': 'Amazing Homemade Cinnamon Rolls recipe (No Mixer)'}},\n",
       "  {'etag': 'm92S8s6uoXjQn1hOWZ2XwlEPB_w',\n",
       "   'id': {'kind': 'youtube#video', 'videoId': '2yrKaAqZ_kc'},\n",
       "   'kind': 'youtube#searchResult',\n",
       "   'snippet': {'channelId': 'UCr_RedQch0OK-fSKy80C3iQ',\n",
       "    'channelTitle': 'Oh Yum with Anna Olson',\n",
       "    'description': 'Chef Anna Olson teaches you how to make amazing and sticky cinnamon buns! Follow along and then try the recipe below for yourself! Subscribe for more ...',\n",
       "    'liveBroadcastContent': 'none',\n",
       "    'publishTime': '2016-04-01T10:00:00Z',\n",
       "    'publishedAt': '2016-04-01T10:00:00Z',\n",
       "    'thumbnails': {'default': {'height': 90,\n",
       "      'url': 'https://i.ytimg.com/vi/2yrKaAqZ_kc/default.jpg',\n",
       "      'width': 120},\n",
       "     'high': {'height': 360,\n",
       "      'url': 'https://i.ytimg.com/vi/2yrKaAqZ_kc/hqdefault.jpg',\n",
       "      'width': 480},\n",
       "     'medium': {'height': 180,\n",
       "      'url': 'https://i.ytimg.com/vi/2yrKaAqZ_kc/mqdefault.jpg',\n",
       "      'width': 320}},\n",
       "    'title': 'Professional Baker&#39;s Best Cinnamon Bun Recipe!'}},\n",
       "  {'etag': '864NC_yK1aSPE4Jv5BbaegyXcGY',\n",
       "   'id': {'kind': 'youtube#video', 'videoId': 'Fp1mMF2-hMo'},\n",
       "   'kind': 'youtube#searchResult',\n",
       "   'snippet': {'channelId': 'UCTvYEid8tmg0jqGPDkehc_Q',\n",
       "    'channelTitle': 'Preppy Kitchen',\n",
       "    'description': 'My pillowy soft and luscious cinnamon rolls topped with a perfect cream cheese glaze are the ultimate morning treat and so easy to make! And YES you can ...',\n",
       "    'liveBroadcastContent': 'none',\n",
       "    'publishTime': '2020-01-21T20:00:02Z',\n",
       "    'publishedAt': '2020-01-21T20:00:02Z',\n",
       "    'thumbnails': {'default': {'height': 90,\n",
       "      'url': 'https://i.ytimg.com/vi/Fp1mMF2-hMo/default.jpg',\n",
       "      'width': 120},\n",
       "     'high': {'height': 360,\n",
       "      'url': 'https://i.ytimg.com/vi/Fp1mMF2-hMo/hqdefault.jpg',\n",
       "      'width': 480},\n",
       "     'medium': {'height': 180,\n",
       "      'url': 'https://i.ytimg.com/vi/Fp1mMF2-hMo/mqdefault.jpg',\n",
       "      'width': 320}},\n",
       "    'title': 'Amazing Cinnamon Rolls Recipe'}},\n",
       "  {'etag': 'Zsl-hqJwZ-FyhNff2tvzyw5A9bQ',\n",
       "   'id': {'kind': 'youtube#video', 'videoId': 'am6_6KGnhpc'},\n",
       "   'kind': 'youtube#searchResult',\n",
       "   'snippet': {'channelId': 'UCUo7ymPAoEBmZhv6pku9r0g',\n",
       "    'channelTitle': 'Bincy Chris',\n",
       "    'description': 'Quick Homemade cinnamon rolls Complete Recipe:https://merryboosters.com/homemade-cinnamon-rolls-quick-and-easy-recipe/ This Homemade Cinnamon ...',\n",
       "    'liveBroadcastContent': 'none',\n",
       "    'publishTime': '2019-11-12T12:46:55Z',\n",
       "    'publishedAt': '2019-11-12T12:46:55Z',\n",
       "    'thumbnails': {'default': {'height': 90,\n",
       "      'url': 'https://i.ytimg.com/vi/am6_6KGnhpc/default.jpg',\n",
       "      'width': 120},\n",
       "     'high': {'height': 360,\n",
       "      'url': 'https://i.ytimg.com/vi/am6_6KGnhpc/hqdefault.jpg',\n",
       "      'width': 480},\n",
       "     'medium': {'height': 180,\n",
       "      'url': 'https://i.ytimg.com/vi/am6_6KGnhpc/mqdefault.jpg',\n",
       "      'width': 320}},\n",
       "    'title': 'Quick and Easy Homemade Cinnamon Rolls Recipe / Soft and fluffy Cinnamon rolls in 4 simple steps'}}],\n",
       " 'kind': 'youtube#searchListResponse',\n",
       " 'nextPageToken': 'CAUQAA',\n",
       " 'pageInfo': {'resultsPerPage': 5, 'totalResults': 1000000},\n",
       " 'regionCode': 'US'}"
      ]
     },
     "execution_count": 76,
     "metadata": {},
     "output_type": "execute_result"
    }
   ],
   "source": [
    "res"
   ]
  },
  {
   "cell_type": "code",
   "execution_count": 77,
   "metadata": {},
   "outputs": [
    {
     "data": {
      "text/plain": [
       "dict"
      ]
     },
     "execution_count": 77,
     "metadata": {},
     "output_type": "execute_result"
    }
   ],
   "source": [
    "type(res)"
   ]
  },
  {
   "cell_type": "code",
   "execution_count": 78,
   "metadata": {},
   "outputs": [
    {
     "data": {
      "text/plain": [
       "dict_keys(['kind', 'etag', 'nextPageToken', 'regionCode', 'pageInfo', 'items'])"
      ]
     },
     "execution_count": 78,
     "metadata": {},
     "output_type": "execute_result"
    }
   ],
   "source": [
    "res.keys()"
   ]
  },
  {
   "cell_type": "code",
   "execution_count": 79,
   "metadata": {},
   "outputs": [
    {
     "data": {
      "text/plain": [
       "[{'etag': 'DH7580oye-DkJp5tc467YNFtxPU',\n",
       "  'id': {'kind': 'youtube#video', 'videoId': '_Q0FYoCl4Cs'},\n",
       "  'kind': 'youtube#searchResult',\n",
       "  'snippet': {'channelId': 'UCJFp8uSYCjXOMnkUyb3CQ3Q',\n",
       "   'channelTitle': 'Tasty',\n",
       "   'description': 'Wake up to the smell of cinnamon rolls this Christmas! Get the step-by-step recipe here: https://bzfd.it/2A5blb1 Subscribe to Tasty: https://bzfd.it/2ri82Z1 About ...',\n",
       "   'liveBroadcastContent': 'none',\n",
       "   'publishTime': '2018-12-22T16:00:04Z',\n",
       "   'publishedAt': '2018-12-22T16:00:04Z',\n",
       "   'thumbnails': {'default': {'height': 90,\n",
       "     'url': 'https://i.ytimg.com/vi/_Q0FYoCl4Cs/default.jpg',\n",
       "     'width': 120},\n",
       "    'high': {'height': 360,\n",
       "     'url': 'https://i.ytimg.com/vi/_Q0FYoCl4Cs/hqdefault.jpg',\n",
       "     'width': 480},\n",
       "    'medium': {'height': 180,\n",
       "     'url': 'https://i.ytimg.com/vi/_Q0FYoCl4Cs/mqdefault.jpg',\n",
       "     'width': 320}},\n",
       "   'title': 'How To Make Homemade Cinnamon Rolls • Tasty'}},\n",
       " {'etag': 'hJ-z1XiIW5Qu_BiyoRnq2twnehc',\n",
       "  'id': {'kind': 'youtube#video', 'videoId': 'idINJ5vHm8Y'},\n",
       "  'kind': 'youtube#searchResult',\n",
       "  'snippet': {'channelId': 'UCXjmSszjqfuEgLR7H5y1IAw',\n",
       "   'channelTitle': 'In The Kitchen With Matt',\n",
       "   'description': \"You can print the recipe here on my website: https://inthekitchenwithmatt.com/amazing-cinnamon-rolls Want to learn how to make some of America's favorite ...\",\n",
       "   'liveBroadcastContent': 'none',\n",
       "   'publishTime': '2015-05-28T22:17:58Z',\n",
       "   'publishedAt': '2015-05-28T22:17:58Z',\n",
       "   'thumbnails': {'default': {'height': 90,\n",
       "     'url': 'https://i.ytimg.com/vi/idINJ5vHm8Y/default.jpg',\n",
       "     'width': 120},\n",
       "    'high': {'height': 360,\n",
       "     'url': 'https://i.ytimg.com/vi/idINJ5vHm8Y/hqdefault.jpg',\n",
       "     'width': 480},\n",
       "    'medium': {'height': 180,\n",
       "     'url': 'https://i.ytimg.com/vi/idINJ5vHm8Y/mqdefault.jpg',\n",
       "     'width': 320}},\n",
       "   'title': 'Amazing Homemade Cinnamon Rolls recipe (No Mixer)'}},\n",
       " {'etag': 'm92S8s6uoXjQn1hOWZ2XwlEPB_w',\n",
       "  'id': {'kind': 'youtube#video', 'videoId': '2yrKaAqZ_kc'},\n",
       "  'kind': 'youtube#searchResult',\n",
       "  'snippet': {'channelId': 'UCr_RedQch0OK-fSKy80C3iQ',\n",
       "   'channelTitle': 'Oh Yum with Anna Olson',\n",
       "   'description': 'Chef Anna Olson teaches you how to make amazing and sticky cinnamon buns! Follow along and then try the recipe below for yourself! Subscribe for more ...',\n",
       "   'liveBroadcastContent': 'none',\n",
       "   'publishTime': '2016-04-01T10:00:00Z',\n",
       "   'publishedAt': '2016-04-01T10:00:00Z',\n",
       "   'thumbnails': {'default': {'height': 90,\n",
       "     'url': 'https://i.ytimg.com/vi/2yrKaAqZ_kc/default.jpg',\n",
       "     'width': 120},\n",
       "    'high': {'height': 360,\n",
       "     'url': 'https://i.ytimg.com/vi/2yrKaAqZ_kc/hqdefault.jpg',\n",
       "     'width': 480},\n",
       "    'medium': {'height': 180,\n",
       "     'url': 'https://i.ytimg.com/vi/2yrKaAqZ_kc/mqdefault.jpg',\n",
       "     'width': 320}},\n",
       "   'title': 'Professional Baker&#39;s Best Cinnamon Bun Recipe!'}},\n",
       " {'etag': '864NC_yK1aSPE4Jv5BbaegyXcGY',\n",
       "  'id': {'kind': 'youtube#video', 'videoId': 'Fp1mMF2-hMo'},\n",
       "  'kind': 'youtube#searchResult',\n",
       "  'snippet': {'channelId': 'UCTvYEid8tmg0jqGPDkehc_Q',\n",
       "   'channelTitle': 'Preppy Kitchen',\n",
       "   'description': 'My pillowy soft and luscious cinnamon rolls topped with a perfect cream cheese glaze are the ultimate morning treat and so easy to make! And YES you can ...',\n",
       "   'liveBroadcastContent': 'none',\n",
       "   'publishTime': '2020-01-21T20:00:02Z',\n",
       "   'publishedAt': '2020-01-21T20:00:02Z',\n",
       "   'thumbnails': {'default': {'height': 90,\n",
       "     'url': 'https://i.ytimg.com/vi/Fp1mMF2-hMo/default.jpg',\n",
       "     'width': 120},\n",
       "    'high': {'height': 360,\n",
       "     'url': 'https://i.ytimg.com/vi/Fp1mMF2-hMo/hqdefault.jpg',\n",
       "     'width': 480},\n",
       "    'medium': {'height': 180,\n",
       "     'url': 'https://i.ytimg.com/vi/Fp1mMF2-hMo/mqdefault.jpg',\n",
       "     'width': 320}},\n",
       "   'title': 'Amazing Cinnamon Rolls Recipe'}},\n",
       " {'etag': 'Zsl-hqJwZ-FyhNff2tvzyw5A9bQ',\n",
       "  'id': {'kind': 'youtube#video', 'videoId': 'am6_6KGnhpc'},\n",
       "  'kind': 'youtube#searchResult',\n",
       "  'snippet': {'channelId': 'UCUo7ymPAoEBmZhv6pku9r0g',\n",
       "   'channelTitle': 'Bincy Chris',\n",
       "   'description': 'Quick Homemade cinnamon rolls Complete Recipe:https://merryboosters.com/homemade-cinnamon-rolls-quick-and-easy-recipe/ This Homemade Cinnamon ...',\n",
       "   'liveBroadcastContent': 'none',\n",
       "   'publishTime': '2019-11-12T12:46:55Z',\n",
       "   'publishedAt': '2019-11-12T12:46:55Z',\n",
       "   'thumbnails': {'default': {'height': 90,\n",
       "     'url': 'https://i.ytimg.com/vi/am6_6KGnhpc/default.jpg',\n",
       "     'width': 120},\n",
       "    'high': {'height': 360,\n",
       "     'url': 'https://i.ytimg.com/vi/am6_6KGnhpc/hqdefault.jpg',\n",
       "     'width': 480},\n",
       "    'medium': {'height': 180,\n",
       "     'url': 'https://i.ytimg.com/vi/am6_6KGnhpc/mqdefault.jpg',\n",
       "     'width': 320}},\n",
       "   'title': 'Quick and Easy Homemade Cinnamon Rolls Recipe / Soft and fluffy Cinnamon rolls in 4 simple steps'}}]"
      ]
     },
     "execution_count": 79,
     "metadata": {},
     "output_type": "execute_result"
    }
   ],
   "source": [
    "res['items']"
   ]
  },
  {
   "cell_type": "code",
   "execution_count": 80,
   "metadata": {},
   "outputs": [
    {
     "data": {
      "text/plain": [
       "list"
      ]
     },
     "execution_count": 80,
     "metadata": {},
     "output_type": "execute_result"
    }
   ],
   "source": [
    "type(res['items'])"
   ]
  },
  {
   "cell_type": "code",
   "execution_count": 81,
   "metadata": {},
   "outputs": [
    {
     "data": {
      "text/plain": [
       "6"
      ]
     },
     "execution_count": 81,
     "metadata": {},
     "output_type": "execute_result"
    }
   ],
   "source": [
    "len(res)"
   ]
  },
  {
   "cell_type": "code",
   "execution_count": 82,
   "metadata": {},
   "outputs": [
    {
     "data": {
      "text/plain": [
       "{'etag': 'DH7580oye-DkJp5tc467YNFtxPU',\n",
       " 'id': {'kind': 'youtube#video', 'videoId': '_Q0FYoCl4Cs'},\n",
       " 'kind': 'youtube#searchResult',\n",
       " 'snippet': {'channelId': 'UCJFp8uSYCjXOMnkUyb3CQ3Q',\n",
       "  'channelTitle': 'Tasty',\n",
       "  'description': 'Wake up to the smell of cinnamon rolls this Christmas! Get the step-by-step recipe here: https://bzfd.it/2A5blb1 Subscribe to Tasty: https://bzfd.it/2ri82Z1 About ...',\n",
       "  'liveBroadcastContent': 'none',\n",
       "  'publishTime': '2018-12-22T16:00:04Z',\n",
       "  'publishedAt': '2018-12-22T16:00:04Z',\n",
       "  'thumbnails': {'default': {'height': 90,\n",
       "    'url': 'https://i.ytimg.com/vi/_Q0FYoCl4Cs/default.jpg',\n",
       "    'width': 120},\n",
       "   'high': {'height': 360,\n",
       "    'url': 'https://i.ytimg.com/vi/_Q0FYoCl4Cs/hqdefault.jpg',\n",
       "    'width': 480},\n",
       "   'medium': {'height': 180,\n",
       "    'url': 'https://i.ytimg.com/vi/_Q0FYoCl4Cs/mqdefault.jpg',\n",
       "    'width': 320}},\n",
       "  'title': 'How To Make Homemade Cinnamon Rolls • Tasty'}}"
      ]
     },
     "execution_count": 82,
     "metadata": {},
     "output_type": "execute_result"
    }
   ],
   "source": [
    "res['items'][0]"
   ]
  },
  {
   "cell_type": "code",
   "execution_count": 83,
   "metadata": {},
   "outputs": [
    {
     "data": {
      "text/plain": [
       "{'etag': 'hJ-z1XiIW5Qu_BiyoRnq2twnehc',\n",
       " 'id': {'kind': 'youtube#video', 'videoId': 'idINJ5vHm8Y'},\n",
       " 'kind': 'youtube#searchResult',\n",
       " 'snippet': {'channelId': 'UCXjmSszjqfuEgLR7H5y1IAw',\n",
       "  'channelTitle': 'In The Kitchen With Matt',\n",
       "  'description': \"You can print the recipe here on my website: https://inthekitchenwithmatt.com/amazing-cinnamon-rolls Want to learn how to make some of America's favorite ...\",\n",
       "  'liveBroadcastContent': 'none',\n",
       "  'publishTime': '2015-05-28T22:17:58Z',\n",
       "  'publishedAt': '2015-05-28T22:17:58Z',\n",
       "  'thumbnails': {'default': {'height': 90,\n",
       "    'url': 'https://i.ytimg.com/vi/idINJ5vHm8Y/default.jpg',\n",
       "    'width': 120},\n",
       "   'high': {'height': 360,\n",
       "    'url': 'https://i.ytimg.com/vi/idINJ5vHm8Y/hqdefault.jpg',\n",
       "    'width': 480},\n",
       "   'medium': {'height': 180,\n",
       "    'url': 'https://i.ytimg.com/vi/idINJ5vHm8Y/mqdefault.jpg',\n",
       "    'width': 320}},\n",
       "  'title': 'Amazing Homemade Cinnamon Rolls recipe (No Mixer)'}}"
      ]
     },
     "execution_count": 83,
     "metadata": {},
     "output_type": "execute_result"
    }
   ],
   "source": [
    "res['items'][1]"
   ]
  },
  {
   "cell_type": "code",
   "execution_count": 84,
   "metadata": {},
   "outputs": [
    {
     "data": {
      "text/plain": [
       "{'etag': 'm92S8s6uoXjQn1hOWZ2XwlEPB_w',\n",
       " 'id': {'kind': 'youtube#video', 'videoId': '2yrKaAqZ_kc'},\n",
       " 'kind': 'youtube#searchResult',\n",
       " 'snippet': {'channelId': 'UCr_RedQch0OK-fSKy80C3iQ',\n",
       "  'channelTitle': 'Oh Yum with Anna Olson',\n",
       "  'description': 'Chef Anna Olson teaches you how to make amazing and sticky cinnamon buns! Follow along and then try the recipe below for yourself! Subscribe for more ...',\n",
       "  'liveBroadcastContent': 'none',\n",
       "  'publishTime': '2016-04-01T10:00:00Z',\n",
       "  'publishedAt': '2016-04-01T10:00:00Z',\n",
       "  'thumbnails': {'default': {'height': 90,\n",
       "    'url': 'https://i.ytimg.com/vi/2yrKaAqZ_kc/default.jpg',\n",
       "    'width': 120},\n",
       "   'high': {'height': 360,\n",
       "    'url': 'https://i.ytimg.com/vi/2yrKaAqZ_kc/hqdefault.jpg',\n",
       "    'width': 480},\n",
       "   'medium': {'height': 180,\n",
       "    'url': 'https://i.ytimg.com/vi/2yrKaAqZ_kc/mqdefault.jpg',\n",
       "    'width': 320}},\n",
       "  'title': 'Professional Baker&#39;s Best Cinnamon Bun Recipe!'}}"
      ]
     },
     "execution_count": 84,
     "metadata": {},
     "output_type": "execute_result"
    }
   ],
   "source": [
    "res['items'][2]"
   ]
  },
  {
   "cell_type": "code",
   "execution_count": 85,
   "metadata": {},
   "outputs": [
    {
     "data": {
      "text/plain": [
       "{'etag': '864NC_yK1aSPE4Jv5BbaegyXcGY',\n",
       " 'id': {'kind': 'youtube#video', 'videoId': 'Fp1mMF2-hMo'},\n",
       " 'kind': 'youtube#searchResult',\n",
       " 'snippet': {'channelId': 'UCTvYEid8tmg0jqGPDkehc_Q',\n",
       "  'channelTitle': 'Preppy Kitchen',\n",
       "  'description': 'My pillowy soft and luscious cinnamon rolls topped with a perfect cream cheese glaze are the ultimate morning treat and so easy to make! And YES you can ...',\n",
       "  'liveBroadcastContent': 'none',\n",
       "  'publishTime': '2020-01-21T20:00:02Z',\n",
       "  'publishedAt': '2020-01-21T20:00:02Z',\n",
       "  'thumbnails': {'default': {'height': 90,\n",
       "    'url': 'https://i.ytimg.com/vi/Fp1mMF2-hMo/default.jpg',\n",
       "    'width': 120},\n",
       "   'high': {'height': 360,\n",
       "    'url': 'https://i.ytimg.com/vi/Fp1mMF2-hMo/hqdefault.jpg',\n",
       "    'width': 480},\n",
       "   'medium': {'height': 180,\n",
       "    'url': 'https://i.ytimg.com/vi/Fp1mMF2-hMo/mqdefault.jpg',\n",
       "    'width': 320}},\n",
       "  'title': 'Amazing Cinnamon Rolls Recipe'}}"
      ]
     },
     "execution_count": 85,
     "metadata": {},
     "output_type": "execute_result"
    }
   ],
   "source": [
    "res['items'][3]"
   ]
  },
  {
   "cell_type": "code",
   "execution_count": 86,
   "metadata": {},
   "outputs": [
    {
     "data": {
      "text/plain": [
       "{'etag': 'Zsl-hqJwZ-FyhNff2tvzyw5A9bQ',\n",
       " 'id': {'kind': 'youtube#video', 'videoId': 'am6_6KGnhpc'},\n",
       " 'kind': 'youtube#searchResult',\n",
       " 'snippet': {'channelId': 'UCUo7ymPAoEBmZhv6pku9r0g',\n",
       "  'channelTitle': 'Bincy Chris',\n",
       "  'description': 'Quick Homemade cinnamon rolls Complete Recipe:https://merryboosters.com/homemade-cinnamon-rolls-quick-and-easy-recipe/ This Homemade Cinnamon ...',\n",
       "  'liveBroadcastContent': 'none',\n",
       "  'publishTime': '2019-11-12T12:46:55Z',\n",
       "  'publishedAt': '2019-11-12T12:46:55Z',\n",
       "  'thumbnails': {'default': {'height': 90,\n",
       "    'url': 'https://i.ytimg.com/vi/am6_6KGnhpc/default.jpg',\n",
       "    'width': 120},\n",
       "   'high': {'height': 360,\n",
       "    'url': 'https://i.ytimg.com/vi/am6_6KGnhpc/hqdefault.jpg',\n",
       "    'width': 480},\n",
       "   'medium': {'height': 180,\n",
       "    'url': 'https://i.ytimg.com/vi/am6_6KGnhpc/mqdefault.jpg',\n",
       "    'width': 320}},\n",
       "  'title': 'Quick and Easy Homemade Cinnamon Rolls Recipe / Soft and fluffy Cinnamon rolls in 4 simple steps'}}"
      ]
     },
     "execution_count": 86,
     "metadata": {},
     "output_type": "execute_result"
    }
   ],
   "source": [
    "res['items'][4]"
   ]
  },
  {
   "cell_type": "code",
   "execution_count": 87,
   "metadata": {},
   "outputs": [
    {
     "data": {
      "text/plain": [
       "dict_keys(['kind', 'etag', 'id', 'snippet'])"
      ]
     },
     "execution_count": 87,
     "metadata": {},
     "output_type": "execute_result"
    }
   ],
   "source": [
    "res['items'][0].keys()"
   ]
  },
  {
   "cell_type": "code",
   "execution_count": 88,
   "metadata": {},
   "outputs": [
    {
     "data": {
      "text/plain": [
       "'youtube#searchResult'"
      ]
     },
     "execution_count": 88,
     "metadata": {},
     "output_type": "execute_result"
    }
   ],
   "source": [
    "res['items'][0]['kind']"
   ]
  },
  {
   "cell_type": "code",
   "execution_count": 89,
   "metadata": {},
   "outputs": [
    {
     "data": {
      "text/plain": [
       "'DH7580oye-DkJp5tc467YNFtxPU'"
      ]
     },
     "execution_count": 89,
     "metadata": {},
     "output_type": "execute_result"
    }
   ],
   "source": [
    "res['items'][0]['etag']"
   ]
  },
  {
   "cell_type": "code",
   "execution_count": 90,
   "metadata": {},
   "outputs": [
    {
     "data": {
      "text/plain": [
       "{'kind': 'youtube#video', 'videoId': '_Q0FYoCl4Cs'}"
      ]
     },
     "execution_count": 90,
     "metadata": {},
     "output_type": "execute_result"
    }
   ],
   "source": [
    "res['items'][0]['id']"
   ]
  },
  {
   "cell_type": "code",
   "execution_count": 91,
   "metadata": {},
   "outputs": [
    {
     "data": {
      "text/plain": [
       "{'channelId': 'UCJFp8uSYCjXOMnkUyb3CQ3Q',\n",
       " 'channelTitle': 'Tasty',\n",
       " 'description': 'Wake up to the smell of cinnamon rolls this Christmas! Get the step-by-step recipe here: https://bzfd.it/2A5blb1 Subscribe to Tasty: https://bzfd.it/2ri82Z1 About ...',\n",
       " 'liveBroadcastContent': 'none',\n",
       " 'publishTime': '2018-12-22T16:00:04Z',\n",
       " 'publishedAt': '2018-12-22T16:00:04Z',\n",
       " 'thumbnails': {'default': {'height': 90,\n",
       "   'url': 'https://i.ytimg.com/vi/_Q0FYoCl4Cs/default.jpg',\n",
       "   'width': 120},\n",
       "  'high': {'height': 360,\n",
       "   'url': 'https://i.ytimg.com/vi/_Q0FYoCl4Cs/hqdefault.jpg',\n",
       "   'width': 480},\n",
       "  'medium': {'height': 180,\n",
       "   'url': 'https://i.ytimg.com/vi/_Q0FYoCl4Cs/mqdefault.jpg',\n",
       "   'width': 320}},\n",
       " 'title': 'How To Make Homemade Cinnamon Rolls • Tasty'}"
      ]
     },
     "execution_count": 91,
     "metadata": {},
     "output_type": "execute_result"
    }
   ],
   "source": [
    "res['items'][0]['snippet']"
   ]
  },
  {
   "cell_type": "code",
   "execution_count": 92,
   "metadata": {},
   "outputs": [
    {
     "data": {
      "text/plain": [
       "dict"
      ]
     },
     "execution_count": 92,
     "metadata": {},
     "output_type": "execute_result"
    }
   ],
   "source": [
    "type(res['items'][0]['snippet'])"
   ]
  },
  {
   "cell_type": "code",
   "execution_count": 93,
   "metadata": {},
   "outputs": [
    {
     "data": {
      "text/plain": [
       "dict_keys(['publishedAt', 'channelId', 'title', 'description', 'thumbnails', 'channelTitle', 'liveBroadcastContent', 'publishTime'])"
      ]
     },
     "execution_count": 93,
     "metadata": {},
     "output_type": "execute_result"
    }
   ],
   "source": [
    "res['items'][0]['snippet'].keys()"
   ]
  },
  {
   "cell_type": "code",
   "execution_count": 94,
   "metadata": {},
   "outputs": [
    {
     "data": {
      "text/plain": [
       "'How To Make Homemade Cinnamon Rolls • Tasty'"
      ]
     },
     "execution_count": 94,
     "metadata": {},
     "output_type": "execute_result"
    }
   ],
   "source": [
    "res['items'][0]['snippet']['title']"
   ]
  },
  {
   "cell_type": "code",
   "execution_count": 95,
   "metadata": {},
   "outputs": [
    {
     "data": {
      "text/plain": [
       "'Wake up to the smell of cinnamon rolls this Christmas! Get the step-by-step recipe here: https://bzfd.it/2A5blb1 Subscribe to Tasty: https://bzfd.it/2ri82Z1 About ...'"
      ]
     },
     "execution_count": 95,
     "metadata": {},
     "output_type": "execute_result"
    }
   ],
   "source": [
    "res['items'][0]['snippet']['description']"
   ]
  },
  {
   "cell_type": "code",
   "execution_count": 96,
   "metadata": {},
   "outputs": [
    {
     "data": {
      "text/plain": [
       "'Tasty'"
      ]
     },
     "execution_count": 96,
     "metadata": {},
     "output_type": "execute_result"
    }
   ],
   "source": [
    "res['items'][0]['snippet']['channelTitle']"
   ]
  },
  {
   "cell_type": "code",
   "execution_count": 284,
   "metadata": {
    "collapsed": true
   },
   "outputs": [],
   "source": [
    "videos_info = {'q':[],\n",
    "                'rank':[],\n",
    "                'title':[],\n",
    "                'description':[],\n",
    "                'channelTitle':[]\n",
    "}"
   ]
  },
  {
   "cell_type": "code",
   "execution_count": 285,
   "metadata": {
    "collapsed": true
   },
   "outputs": [],
   "source": [
    "videos = res['items']"
   ]
  },
  {
   "cell_type": "code",
   "execution_count": 286,
   "metadata": {
    "collapsed": true
   },
   "outputs": [],
   "source": [
    "i = 1\n",
    "for video in videos:\n",
    "    for key in videos_info.keys():\n",
    "        if key == 'q':\n",
    "            item = recipe_list[0]\n",
    "            videos_info[key].append(item)\n",
    "        if key == 'rank':\n",
    "            videos_info[key].append(i)\n",
    "            i = i + 1 \n",
    "        if key == 'title':\n",
    "            videos_info[key].append(video['snippet']['title'])\n",
    "        if key == 'description':\n",
    "            videos_info[key].append(video['snippet']['description'])\n",
    "        if key == 'channelTitle':\n",
    "            videos_info[key].append(video['snippet']['channelTitle'])"
   ]
  },
  {
   "cell_type": "code",
   "execution_count": 287,
   "metadata": {},
   "outputs": [
    {
     "data": {
      "text/plain": [
       "['Light and Creamy Cheesecake Recipe',\n",
       " 'The Best New York Cheesecake Recipe | Emojoie Cuisine',\n",
       " 'Easy Cheesecake Recipe',\n",
       " 'How to Make the Creamiest Cheesecake',\n",
       " 'How to make the PERFECT CHEESECAKE with Cherry Sauce']"
      ]
     },
     "execution_count": 287,
     "metadata": {},
     "output_type": "execute_result"
    }
   ],
   "source": [
    "videos_info['title']"
   ]
  },
  {
   "cell_type": "code",
   "execution_count": 288,
   "metadata": {},
   "outputs": [
    {
     "data": {
      "text/plain": [
       "['Cinnamon French Toast Recipe',\n",
       " 'Cinnamon French Toast Recipe',\n",
       " 'Cinnamon French Toast Recipe',\n",
       " 'Cinnamon French Toast Recipe',\n",
       " 'Cinnamon French Toast Recipe']"
      ]
     },
     "execution_count": 288,
     "metadata": {},
     "output_type": "execute_result"
    }
   ],
   "source": [
    "videos_info['q']"
   ]
  },
  {
   "cell_type": "code",
   "execution_count": 289,
   "metadata": {},
   "outputs": [
    {
     "data": {
      "text/plain": [
       "['My creamy, fluffy, easy cheesecake recipe is perfectly sweet with a light and delicate texture, all wrapped in a crunchy Graham cracker and toasted pecan crust.',\n",
       " 'Ingredients Ø18cm 120g biscuits 60g melted butter 400g creamcheese (Full fat) 120g granulated sugar 200g sour cream or 100g heavy cream + 100g yogurt ...',\n",
       " \"NOTE: Mistyped ingredient. USE 1 1/4 CUP SOUR CREAM (285 G), NOT 1/2 CUP (125 G). SORRY! This is the whole sized version of our readers' favourite, ...\",\n",
       " 'Check us out on Facebook! - facebook.com/buzzfeedtasty Credits: https://www.buzzfeed.com/bfmp/videos/68920.',\n",
       " 'Homemade cheesecake is easy and everyone will be impressed with this New York Cheesecake Recipe. The secret to a perfect cheesecake is using the water ...']"
      ]
     },
     "execution_count": 289,
     "metadata": {},
     "output_type": "execute_result"
    }
   ],
   "source": [
    "videos_info['description']"
   ]
  },
  {
   "cell_type": "code",
   "execution_count": 290,
   "metadata": {
    "collapsed": true
   },
   "outputs": [],
   "source": [
    "request = youtube.search().list(q=recipe_list[1], part='snippet', maxResults=5, type='video')"
   ]
  },
  {
   "cell_type": "code",
   "execution_count": 291,
   "metadata": {
    "collapsed": true
   },
   "outputs": [],
   "source": [
    "res = request.execute()"
   ]
  },
  {
   "cell_type": "code",
   "execution_count": 292,
   "metadata": {},
   "outputs": [
    {
     "data": {
      "text/plain": [
       "[{'etag': 'CdjCeMzl6orTGsPr82JIbUoC-rI',\n",
       "  'id': {'kind': 'youtube#video', 'videoId': 'XcEXObUJiK8'},\n",
       "  'kind': 'youtube#searchResult',\n",
       "  'snippet': {'channelId': 'UC-ZSvyxeHjZhj_J1wzp-8xQ',\n",
       "   'channelTitle': 'Inspired Taste',\n",
       "   'description': 'For the full Chewy Oatmeal Cookie Recipe with ingredient amounts and instructions, please visit our recipe page on Inspired Taste: ...',\n",
       "   'liveBroadcastContent': 'none',\n",
       "   'publishTime': '2012-12-02T23:07:06Z',\n",
       "   'publishedAt': '2012-12-02T23:07:06Z',\n",
       "   'thumbnails': {'default': {'height': 90,\n",
       "     'url': 'https://i.ytimg.com/vi/XcEXObUJiK8/default.jpg',\n",
       "     'width': 120},\n",
       "    'high': {'height': 360,\n",
       "     'url': 'https://i.ytimg.com/vi/XcEXObUJiK8/hqdefault.jpg',\n",
       "     'width': 480},\n",
       "    'medium': {'height': 180,\n",
       "     'url': 'https://i.ytimg.com/vi/XcEXObUJiK8/mqdefault.jpg',\n",
       "     'width': 320}},\n",
       "   'title': 'How to Make Soft and Chewy Oatmeal Raisin Cookies - Oatmeal Cookie Recipe'}},\n",
       " {'etag': 's-1LL-FI6Cw0G9YDYy2kNBEwjBw',\n",
       "  'id': {'kind': 'youtube#video', 'videoId': 'nfn0O25aDaU'},\n",
       "  'kind': 'youtube#searchResult',\n",
       "  'snippet': {'channelId': 'UCxAS_aK7sS2x_bqnlJHDSHw',\n",
       "   'channelTitle': \"America's Test Kitchen\",\n",
       "   'description': 'Julia teaches Bridget the secrets to the best Chewy Oatmeal Cookies. Get the recipe for Chewy Oatmeal Cookies: https://cooks.io/2q33t4O Buy our winning ...',\n",
       "   'liveBroadcastContent': 'none',\n",
       "   'publishTime': '2019-04-13T17:00:10Z',\n",
       "   'publishedAt': '2019-04-13T17:00:10Z',\n",
       "   'thumbnails': {'default': {'height': 90,\n",
       "     'url': 'https://i.ytimg.com/vi/nfn0O25aDaU/default.jpg',\n",
       "     'width': 120},\n",
       "    'high': {'height': 360,\n",
       "     'url': 'https://i.ytimg.com/vi/nfn0O25aDaU/hqdefault.jpg',\n",
       "     'width': 480},\n",
       "    'medium': {'height': 180,\n",
       "     'url': 'https://i.ytimg.com/vi/nfn0O25aDaU/mqdefault.jpg',\n",
       "     'width': 320}},\n",
       "   'title': 'The Best Recipe for Chewy Oatmeal Cookies is Not on the Back of the Oat Canister'}},\n",
       " {'etag': 'MNcb4H4ZD0IQAExrlv6UCbnxcok',\n",
       "  'id': {'kind': 'youtube#video', 'videoId': 'Qd6c-kUDsvQ'},\n",
       "  'kind': 'youtube#searchResult',\n",
       "  'snippet': {'channelId': 'UCFjd060Z3nTHv0UyO8M43mQ',\n",
       "   'channelTitle': 'Joy of Baking',\n",
       "   'description': 'Recipe here: http://www.joyofbaking.com/CrispyOatmealCookies.html Stephanie Jaworski of Joyofbaking.com demonstrates how to make Crispy Oatmeal ...',\n",
       "   'liveBroadcastContent': 'none',\n",
       "   'publishTime': '2012-08-24T17:21:13Z',\n",
       "   'publishedAt': '2012-08-24T17:21:13Z',\n",
       "   'thumbnails': {'default': {'height': 90,\n",
       "     'url': 'https://i.ytimg.com/vi/Qd6c-kUDsvQ/default.jpg',\n",
       "     'width': 120},\n",
       "    'high': {'height': 360,\n",
       "     'url': 'https://i.ytimg.com/vi/Qd6c-kUDsvQ/hqdefault.jpg',\n",
       "     'width': 480},\n",
       "    'medium': {'height': 180,\n",
       "     'url': 'https://i.ytimg.com/vi/Qd6c-kUDsvQ/mqdefault.jpg',\n",
       "     'width': 320}},\n",
       "   'title': 'Crispy Oatmeal Cookies Recipe Demonstration - Joyofbaking.com'}},\n",
       " {'etag': 'qtvS8Iv8ZL08CQA6TzrdpFm1sSU',\n",
       "  'id': {'kind': 'youtube#video', 'videoId': 'YOgZHfGMzm4'},\n",
       "  'kind': 'youtube#searchResult',\n",
       "  'snippet': {'channelId': 'UCaRak5TaHSILxHvwxWcLzkw',\n",
       "   'channelTitle': 'Sugar Spun Run',\n",
       "   'description': 'An easy recipe for big, soft, Oatmeal Cookies. ↓↓↓↓↓CLICK FOR MORE↓↓↓↓↓ Printable recipe here: ...',\n",
       "   'liveBroadcastContent': 'none',\n",
       "   'publishTime': '2017-11-04T04:00:49Z',\n",
       "   'publishedAt': '2017-11-04T04:00:49Z',\n",
       "   'thumbnails': {'default': {'height': 90,\n",
       "     'url': 'https://i.ytimg.com/vi/YOgZHfGMzm4/default.jpg',\n",
       "     'width': 120},\n",
       "    'high': {'height': 360,\n",
       "     'url': 'https://i.ytimg.com/vi/YOgZHfGMzm4/hqdefault.jpg',\n",
       "     'width': 480},\n",
       "    'medium': {'height': 180,\n",
       "     'url': 'https://i.ytimg.com/vi/YOgZHfGMzm4/mqdefault.jpg',\n",
       "     'width': 320}},\n",
       "   'title': 'HOW TO MAKE OATMEAL COOKIES'}},\n",
       " {'etag': 'XTuLakSGFzyLq8kgju7cwEDx604',\n",
       "  'id': {'kind': 'youtube#video', 'videoId': 'XQP_6wU-wnU'},\n",
       "  'kind': 'youtube#searchResult',\n",
       "  'snippet': {'channelId': 'UCTvYEid8tmg0jqGPDkehc_Q',\n",
       "   'channelTitle': 'Preppy Kitchen',\n",
       "   'description': 'These delicious oatmeal chocolate chip cookies have JUST the right combination of crisp on the outside, chewy on the inside amazingness and of course big ...',\n",
       "   'liveBroadcastContent': 'none',\n",
       "   'publishTime': '2020-01-28T20:01:51Z',\n",
       "   'publishedAt': '2020-01-28T20:01:51Z',\n",
       "   'thumbnails': {'default': {'height': 90,\n",
       "     'url': 'https://i.ytimg.com/vi/XQP_6wU-wnU/default.jpg',\n",
       "     'width': 120},\n",
       "    'high': {'height': 360,\n",
       "     'url': 'https://i.ytimg.com/vi/XQP_6wU-wnU/hqdefault.jpg',\n",
       "     'width': 480},\n",
       "    'medium': {'height': 180,\n",
       "     'url': 'https://i.ytimg.com/vi/XQP_6wU-wnU/mqdefault.jpg',\n",
       "     'width': 320}},\n",
       "   'title': 'Oatmeal Chocolate Chip Cookies'}}]"
      ]
     },
     "execution_count": 292,
     "metadata": {},
     "output_type": "execute_result"
    }
   ],
   "source": [
    "res['items']"
   ]
  },
  {
   "cell_type": "code",
   "execution_count": 293,
   "metadata": {
    "collapsed": true
   },
   "outputs": [],
   "source": [
    "videos = res['items']"
   ]
  },
  {
   "cell_type": "code",
   "execution_count": 294,
   "metadata": {
    "collapsed": true
   },
   "outputs": [],
   "source": [
    "i = 1\n",
    "for video in videos:\n",
    "    for key in videos_info.keys():\n",
    "        if key == 'q':\n",
    "            item = recipe_list[1]\n",
    "            videos_info[key].append(item)\n",
    "        if key == 'rank':\n",
    "            videos_info[key].append(i)\n",
    "            i = i + 1 \n",
    "        if key == 'title':\n",
    "            videos_info[key].append(video['snippet']['title'])\n",
    "        if key == 'description':\n",
    "            videos_info[key].append(video['snippet']['description'])\n",
    "        if key == 'channelTitle':\n",
    "            videos_info[key].append(video['snippet']['channelTitle'])"
   ]
  },
  {
   "cell_type": "code",
   "execution_count": 295,
   "metadata": {},
   "outputs": [
    {
     "data": {
      "text/plain": [
       "['Light and Creamy Cheesecake Recipe',\n",
       " 'The Best New York Cheesecake Recipe | Emojoie Cuisine',\n",
       " 'Easy Cheesecake Recipe',\n",
       " 'How to Make the Creamiest Cheesecake',\n",
       " 'How to make the PERFECT CHEESECAKE with Cherry Sauce',\n",
       " 'How to Make Soft and Chewy Oatmeal Raisin Cookies - Oatmeal Cookie Recipe',\n",
       " 'The Best Recipe for Chewy Oatmeal Cookies is Not on the Back of the Oat Canister',\n",
       " 'Crispy Oatmeal Cookies Recipe Demonstration - Joyofbaking.com',\n",
       " 'HOW TO MAKE OATMEAL COOKIES',\n",
       " 'Oatmeal Chocolate Chip Cookies']"
      ]
     },
     "execution_count": 295,
     "metadata": {},
     "output_type": "execute_result"
    }
   ],
   "source": [
    "videos_info['title']"
   ]
  },
  {
   "cell_type": "code",
   "execution_count": 296,
   "metadata": {},
   "outputs": [
    {
     "data": {
      "text/plain": [
       "['Cinnamon French Toast Recipe',\n",
       " 'Cinnamon French Toast Recipe',\n",
       " 'Cinnamon French Toast Recipe',\n",
       " 'Cinnamon French Toast Recipe',\n",
       " 'Cinnamon French Toast Recipe',\n",
       " 'Oatmeal Cookies Recipe',\n",
       " 'Oatmeal Cookies Recipe',\n",
       " 'Oatmeal Cookies Recipe',\n",
       " 'Oatmeal Cookies Recipe',\n",
       " 'Oatmeal Cookies Recipe']"
      ]
     },
     "execution_count": 296,
     "metadata": {},
     "output_type": "execute_result"
    }
   ],
   "source": [
    "videos_info['q']"
   ]
  },
  {
   "cell_type": "code",
   "execution_count": 297,
   "metadata": {},
   "outputs": [
    {
     "data": {
      "text/plain": [
       "[1, 2, 3, 4, 5, 1, 2, 3, 4, 5]"
      ]
     },
     "execution_count": 297,
     "metadata": {},
     "output_type": "execute_result"
    }
   ],
   "source": [
    "videos_info['rank']"
   ]
  },
  {
   "cell_type": "code",
   "execution_count": 298,
   "metadata": {
    "collapsed": true
   },
   "outputs": [],
   "source": [
    "request = youtube.search().list(q=recipe_list[2], part='snippet', maxResults=5, type='video')\n",
    "res = request.execute()\n",
    "videos = res['items']"
   ]
  },
  {
   "cell_type": "code",
   "execution_count": 299,
   "metadata": {
    "collapsed": true
   },
   "outputs": [],
   "source": [
    "i = 1\n",
    "for video in videos:\n",
    "    for key in videos_info.keys():\n",
    "        if key == 'q':\n",
    "            item = recipe_list[2]\n",
    "            videos_info[key].append(item)\n",
    "        if key == 'rank':\n",
    "            videos_info[key].append(i)\n",
    "            i = i + 1 \n",
    "        if key == 'title':\n",
    "            videos_info[key].append(video['snippet']['title'])\n",
    "        if key == 'description':\n",
    "            videos_info[key].append(video['snippet']['description'])\n",
    "        if key == 'channelTitle':\n",
    "            videos_info[key].append(video['snippet']['channelTitle'])"
   ]
  },
  {
   "cell_type": "code",
   "execution_count": 300,
   "metadata": {},
   "outputs": [
    {
     "data": {
      "text/plain": [
       "['Cinnamon French Toast Recipe',\n",
       " 'Cinnamon French Toast Recipe',\n",
       " 'Cinnamon French Toast Recipe',\n",
       " 'Cinnamon French Toast Recipe',\n",
       " 'Cinnamon French Toast Recipe',\n",
       " 'Oatmeal Cookies Recipe',\n",
       " 'Oatmeal Cookies Recipe',\n",
       " 'Oatmeal Cookies Recipe',\n",
       " 'Oatmeal Cookies Recipe',\n",
       " 'Oatmeal Cookies Recipe',\n",
       " 'Waffle Recipe',\n",
       " 'Waffle Recipe',\n",
       " 'Waffle Recipe',\n",
       " 'Waffle Recipe',\n",
       " 'Waffle Recipe']"
      ]
     },
     "execution_count": 300,
     "metadata": {},
     "output_type": "execute_result"
    }
   ],
   "source": [
    "videos_info['q']"
   ]
  },
  {
   "cell_type": "code",
   "execution_count": 301,
   "metadata": {},
   "outputs": [
    {
     "data": {
      "text/plain": [
       "['Light and Creamy Cheesecake Recipe',\n",
       " 'The Best New York Cheesecake Recipe | Emojoie Cuisine',\n",
       " 'Easy Cheesecake Recipe',\n",
       " 'How to Make the Creamiest Cheesecake',\n",
       " 'How to make the PERFECT CHEESECAKE with Cherry Sauce',\n",
       " 'How to Make Soft and Chewy Oatmeal Raisin Cookies - Oatmeal Cookie Recipe',\n",
       " 'The Best Recipe for Chewy Oatmeal Cookies is Not on the Back of the Oat Canister',\n",
       " 'Crispy Oatmeal Cookies Recipe Demonstration - Joyofbaking.com',\n",
       " 'HOW TO MAKE OATMEAL COOKIES',\n",
       " 'Oatmeal Chocolate Chip Cookies',\n",
       " 'Easy Homemade Belgian Waffle Recipe',\n",
       " 'How to Make Perfect Homemade Waffles',\n",
       " 'Homemade Waffles Recipe - Laura Vitale - Laura in the Kitchen Episode 326',\n",
       " 'Perfect Waffle Recipe - Crispy &amp; Fluffy - Lockdown Kitchen!',\n",
       " 'Professional Baker&#39;s Best Waffles Recipe!']"
      ]
     },
     "execution_count": 301,
     "metadata": {},
     "output_type": "execute_result"
    }
   ],
   "source": [
    "videos_info['title']"
   ]
  },
  {
   "cell_type": "code",
   "execution_count": 302,
   "metadata": {
    "collapsed": true
   },
   "outputs": [],
   "source": [
    "request = youtube.search().list(q=recipe_list[3], part='snippet', maxResults=5, type='video')\n",
    "res = request.execute()\n",
    "videos = res['items']"
   ]
  },
  {
   "cell_type": "code",
   "execution_count": 303,
   "metadata": {
    "collapsed": true
   },
   "outputs": [],
   "source": [
    "i = 1\n",
    "for video in videos:\n",
    "    for key in videos_info.keys():\n",
    "        if key == 'q':\n",
    "            item = recipe_list[3]\n",
    "            videos_info[key].append(item)\n",
    "        if key == 'rank':\n",
    "            videos_info[key].append(i)\n",
    "            i = i + 1 \n",
    "        if key == 'title':\n",
    "            videos_info[key].append(video['snippet']['title'])\n",
    "        if key == 'description':\n",
    "            videos_info[key].append(video['snippet']['description'])\n",
    "        if key == 'channelTitle':\n",
    "            videos_info[key].append(video['snippet']['channelTitle'])"
   ]
  },
  {
   "cell_type": "code",
   "execution_count": 304,
   "metadata": {},
   "outputs": [
    {
     "data": {
      "text/plain": [
       "['Cinnamon French Toast Recipe',\n",
       " 'Cinnamon French Toast Recipe',\n",
       " 'Cinnamon French Toast Recipe',\n",
       " 'Cinnamon French Toast Recipe',\n",
       " 'Cinnamon French Toast Recipe',\n",
       " 'Oatmeal Cookies Recipe',\n",
       " 'Oatmeal Cookies Recipe',\n",
       " 'Oatmeal Cookies Recipe',\n",
       " 'Oatmeal Cookies Recipe',\n",
       " 'Oatmeal Cookies Recipe',\n",
       " 'Waffle Recipe',\n",
       " 'Waffle Recipe',\n",
       " 'Waffle Recipe',\n",
       " 'Waffle Recipe',\n",
       " 'Waffle Recipe',\n",
       " 'Pork Chop Recipe',\n",
       " 'Pork Chop Recipe',\n",
       " 'Pork Chop Recipe',\n",
       " 'Pork Chop Recipe',\n",
       " 'Pork Chop Recipe']"
      ]
     },
     "execution_count": 304,
     "metadata": {},
     "output_type": "execute_result"
    }
   ],
   "source": [
    "videos_info['q']"
   ]
  },
  {
   "cell_type": "code",
   "execution_count": 305,
   "metadata": {},
   "outputs": [
    {
     "data": {
      "text/plain": [
       "['Light and Creamy Cheesecake Recipe',\n",
       " 'The Best New York Cheesecake Recipe | Emojoie Cuisine',\n",
       " 'Easy Cheesecake Recipe',\n",
       " 'How to Make the Creamiest Cheesecake',\n",
       " 'How to make the PERFECT CHEESECAKE with Cherry Sauce',\n",
       " 'How to Make Soft and Chewy Oatmeal Raisin Cookies - Oatmeal Cookie Recipe',\n",
       " 'The Best Recipe for Chewy Oatmeal Cookies is Not on the Back of the Oat Canister',\n",
       " 'Crispy Oatmeal Cookies Recipe Demonstration - Joyofbaking.com',\n",
       " 'HOW TO MAKE OATMEAL COOKIES',\n",
       " 'Oatmeal Chocolate Chip Cookies',\n",
       " 'Easy Homemade Belgian Waffle Recipe',\n",
       " 'How to Make Perfect Homemade Waffles',\n",
       " 'Homemade Waffles Recipe - Laura Vitale - Laura in the Kitchen Episode 326',\n",
       " 'Perfect Waffle Recipe - Crispy &amp; Fluffy - Lockdown Kitchen!',\n",
       " 'Professional Baker&#39;s Best Waffles Recipe!',\n",
       " 'PORK CHOP | EASIEST WAY TO MAKE TENDER &amp; JUICY PORK CHOP',\n",
       " 'Pork Chops with Sweet and Sour Peppers - Gordon Ramsay',\n",
       " 'Honey Garlic Pork Chops',\n",
       " 'Best Fried Pork Chop Recipe! How to Cook Pork Chops!',\n",
       " 'Pork Chops in the OVEN Recipe, Extremely Tender &amp; Juicy |This is a Must Try!!']"
      ]
     },
     "execution_count": 305,
     "metadata": {},
     "output_type": "execute_result"
    }
   ],
   "source": [
    "videos_info['title']"
   ]
  },
  {
   "cell_type": "code",
   "execution_count": 306,
   "metadata": {
    "collapsed": true
   },
   "outputs": [],
   "source": [
    "request = youtube.search().list(q=recipe_list[4], part='snippet', maxResults=5, type='video')\n",
    "res = request.execute()\n",
    "videos = res['items']"
   ]
  },
  {
   "cell_type": "code",
   "execution_count": 307,
   "metadata": {
    "collapsed": true
   },
   "outputs": [],
   "source": [
    "i = 1\n",
    "for video in videos:\n",
    "    for key in videos_info.keys():\n",
    "        if key == 'q':\n",
    "            item = recipe_list[4]\n",
    "            videos_info[key].append(item)\n",
    "        if key == 'rank':\n",
    "            videos_info[key].append(i)\n",
    "            i = i + 1 \n",
    "        if key == 'title':\n",
    "            videos_info[key].append(video['snippet']['title'])\n",
    "        if key == 'description':\n",
    "            videos_info[key].append(video['snippet']['description'])\n",
    "        if key == 'channelTitle':\n",
    "            videos_info[key].append(video['snippet']['channelTitle'])"
   ]
  },
  {
   "cell_type": "code",
   "execution_count": 308,
   "metadata": {},
   "outputs": [
    {
     "data": {
      "text/plain": [
       "['Light and Creamy Cheesecake Recipe',\n",
       " 'The Best New York Cheesecake Recipe | Emojoie Cuisine',\n",
       " 'Easy Cheesecake Recipe',\n",
       " 'How to Make the Creamiest Cheesecake',\n",
       " 'How to make the PERFECT CHEESECAKE with Cherry Sauce',\n",
       " 'How to Make Soft and Chewy Oatmeal Raisin Cookies - Oatmeal Cookie Recipe',\n",
       " 'The Best Recipe for Chewy Oatmeal Cookies is Not on the Back of the Oat Canister',\n",
       " 'Crispy Oatmeal Cookies Recipe Demonstration - Joyofbaking.com',\n",
       " 'HOW TO MAKE OATMEAL COOKIES',\n",
       " 'Oatmeal Chocolate Chip Cookies',\n",
       " 'Easy Homemade Belgian Waffle Recipe',\n",
       " 'How to Make Perfect Homemade Waffles',\n",
       " 'Homemade Waffles Recipe - Laura Vitale - Laura in the Kitchen Episode 326',\n",
       " 'Perfect Waffle Recipe - Crispy &amp; Fluffy - Lockdown Kitchen!',\n",
       " 'Professional Baker&#39;s Best Waffles Recipe!',\n",
       " 'PORK CHOP | EASIEST WAY TO MAKE TENDER &amp; JUICY PORK CHOP',\n",
       " 'Pork Chops with Sweet and Sour Peppers - Gordon Ramsay',\n",
       " 'Honey Garlic Pork Chops',\n",
       " 'Best Fried Pork Chop Recipe! How to Cook Pork Chops!',\n",
       " 'Pork Chops in the OVEN Recipe, Extremely Tender &amp; Juicy |This is a Must Try!!',\n",
       " 'The Best Cauliflower Pizza Crust Recipe That Won&#39;t Fall Apart',\n",
       " 'CAULIFLOWER PIZZA CRUST | best low-carb + keto pizza crust',\n",
       " 'Easy Cauliflower Pizza Crust Recipe that won´t Fall Apart!',\n",
       " 'Cauliflower Pizza Crust Recipe - Cauliflower Pizza &quot;Dough&quot; Recipe',\n",
       " '🍕🍕🍕 The Best Cauliflower Pizza Recipe | Episode 1232']"
      ]
     },
     "execution_count": 308,
     "metadata": {},
     "output_type": "execute_result"
    }
   ],
   "source": [
    "videos_info['title']"
   ]
  },
  {
   "cell_type": "code",
   "execution_count": 309,
   "metadata": {},
   "outputs": [
    {
     "data": {
      "text/plain": [
       "['Cinnamon French Toast Recipe',\n",
       " 'Cinnamon French Toast Recipe',\n",
       " 'Cinnamon French Toast Recipe',\n",
       " 'Cinnamon French Toast Recipe',\n",
       " 'Cinnamon French Toast Recipe',\n",
       " 'Oatmeal Cookies Recipe',\n",
       " 'Oatmeal Cookies Recipe',\n",
       " 'Oatmeal Cookies Recipe',\n",
       " 'Oatmeal Cookies Recipe',\n",
       " 'Oatmeal Cookies Recipe',\n",
       " 'Waffle Recipe',\n",
       " 'Waffle Recipe',\n",
       " 'Waffle Recipe',\n",
       " 'Waffle Recipe',\n",
       " 'Waffle Recipe',\n",
       " 'Pork Chop Recipe',\n",
       " 'Pork Chop Recipe',\n",
       " 'Pork Chop Recipe',\n",
       " 'Pork Chop Recipe',\n",
       " 'Pork Chop Recipe',\n",
       " 'Cauliflower Pizza Crust Recipe',\n",
       " 'Cauliflower Pizza Crust Recipe',\n",
       " 'Cauliflower Pizza Crust Recipe',\n",
       " 'Cauliflower Pizza Crust Recipe',\n",
       " 'Cauliflower Pizza Crust Recipe']"
      ]
     },
     "execution_count": 309,
     "metadata": {},
     "output_type": "execute_result"
    }
   ],
   "source": [
    "videos_info['q']"
   ]
  },
  {
   "cell_type": "code",
   "execution_count": 310,
   "metadata": {
    "collapsed": true
   },
   "outputs": [],
   "source": [
    "request = youtube.search().list(q=recipe_list[5], part='snippet', maxResults=5, type='video')\n",
    "res = request.execute()\n",
    "videos = res['items']"
   ]
  },
  {
   "cell_type": "code",
   "execution_count": 311,
   "metadata": {
    "collapsed": true
   },
   "outputs": [],
   "source": [
    "i = 1\n",
    "for video in videos:\n",
    "    for key in videos_info.keys():\n",
    "        if key == 'q':\n",
    "            item = recipe_list[5]\n",
    "            videos_info[key].append(item)\n",
    "        if key == 'rank':\n",
    "            videos_info[key].append(i)\n",
    "            i = i + 1 \n",
    "        if key == 'title':\n",
    "            videos_info[key].append(video['snippet']['title'])\n",
    "        if key == 'description':\n",
    "            videos_info[key].append(video['snippet']['description'])\n",
    "        if key == 'channelTitle':\n",
    "            videos_info[key].append(video['snippet']['channelTitle'])"
   ]
  },
  {
   "cell_type": "code",
   "execution_count": 312,
   "metadata": {},
   "outputs": [
    {
     "data": {
      "text/plain": [
       "['Cinnamon French Toast Recipe',\n",
       " 'Cinnamon French Toast Recipe',\n",
       " 'Cinnamon French Toast Recipe',\n",
       " 'Cinnamon French Toast Recipe',\n",
       " 'Cinnamon French Toast Recipe',\n",
       " 'Oatmeal Cookies Recipe',\n",
       " 'Oatmeal Cookies Recipe',\n",
       " 'Oatmeal Cookies Recipe',\n",
       " 'Oatmeal Cookies Recipe',\n",
       " 'Oatmeal Cookies Recipe',\n",
       " 'Waffle Recipe',\n",
       " 'Waffle Recipe',\n",
       " 'Waffle Recipe',\n",
       " 'Waffle Recipe',\n",
       " 'Waffle Recipe',\n",
       " 'Pork Chop Recipe',\n",
       " 'Pork Chop Recipe',\n",
       " 'Pork Chop Recipe',\n",
       " 'Pork Chop Recipe',\n",
       " 'Pork Chop Recipe',\n",
       " 'Cauliflower Pizza Crust Recipe',\n",
       " 'Cauliflower Pizza Crust Recipe',\n",
       " 'Cauliflower Pizza Crust Recipe',\n",
       " 'Cauliflower Pizza Crust Recipe',\n",
       " 'Cauliflower Pizza Crust Recipe',\n",
       " 'Chocolate Lava Cake Recipe',\n",
       " 'Chocolate Lava Cake Recipe',\n",
       " 'Chocolate Lava Cake Recipe',\n",
       " 'Chocolate Lava Cake Recipe',\n",
       " 'Chocolate Lava Cake Recipe']"
      ]
     },
     "execution_count": 312,
     "metadata": {},
     "output_type": "execute_result"
    }
   ],
   "source": [
    "videos_info['q']"
   ]
  },
  {
   "cell_type": "code",
   "execution_count": 313,
   "metadata": {},
   "outputs": [
    {
     "data": {
      "text/plain": [
       "['Light and Creamy Cheesecake Recipe',\n",
       " 'The Best New York Cheesecake Recipe | Emojoie Cuisine',\n",
       " 'Easy Cheesecake Recipe',\n",
       " 'How to Make the Creamiest Cheesecake',\n",
       " 'How to make the PERFECT CHEESECAKE with Cherry Sauce',\n",
       " 'How to Make Soft and Chewy Oatmeal Raisin Cookies - Oatmeal Cookie Recipe',\n",
       " 'The Best Recipe for Chewy Oatmeal Cookies is Not on the Back of the Oat Canister',\n",
       " 'Crispy Oatmeal Cookies Recipe Demonstration - Joyofbaking.com',\n",
       " 'HOW TO MAKE OATMEAL COOKIES',\n",
       " 'Oatmeal Chocolate Chip Cookies',\n",
       " 'Easy Homemade Belgian Waffle Recipe',\n",
       " 'How to Make Perfect Homemade Waffles',\n",
       " 'Homemade Waffles Recipe - Laura Vitale - Laura in the Kitchen Episode 326',\n",
       " 'Perfect Waffle Recipe - Crispy &amp; Fluffy - Lockdown Kitchen!',\n",
       " 'Professional Baker&#39;s Best Waffles Recipe!',\n",
       " 'PORK CHOP | EASIEST WAY TO MAKE TENDER &amp; JUICY PORK CHOP',\n",
       " 'Pork Chops with Sweet and Sour Peppers - Gordon Ramsay',\n",
       " 'Honey Garlic Pork Chops',\n",
       " 'Best Fried Pork Chop Recipe! How to Cook Pork Chops!',\n",
       " 'Pork Chops in the OVEN Recipe, Extremely Tender &amp; Juicy |This is a Must Try!!',\n",
       " 'The Best Cauliflower Pizza Crust Recipe That Won&#39;t Fall Apart',\n",
       " 'CAULIFLOWER PIZZA CRUST | best low-carb + keto pizza crust',\n",
       " 'Easy Cauliflower Pizza Crust Recipe that won´t Fall Apart!',\n",
       " 'Cauliflower Pizza Crust Recipe - Cauliflower Pizza &quot;Dough&quot; Recipe',\n",
       " '🍕🍕🍕 The Best Cauliflower Pizza Recipe | Episode 1232',\n",
       " 'Chocolate Lava Cake',\n",
       " 'How To Make A Chocolate Lava Cake • Tasty',\n",
       " 'Chocolate Lava Cake',\n",
       " 'How to Make Chocolate Lava Cakes Recipe | Molten Chocolate Cake',\n",
       " 'How to Make Chocolate Molten Lava Cake | Get the Dish']"
      ]
     },
     "execution_count": 313,
     "metadata": {},
     "output_type": "execute_result"
    }
   ],
   "source": [
    "videos_info['title']"
   ]
  },
  {
   "cell_type": "code",
   "execution_count": 314,
   "metadata": {
    "collapsed": true
   },
   "outputs": [],
   "source": [
    "request = youtube.search().list(q=recipe_list[6], part='snippet', maxResults=5, type='video')\n",
    "res = request.execute()\n",
    "videos = res['items']"
   ]
  },
  {
   "cell_type": "code",
   "execution_count": 315,
   "metadata": {
    "collapsed": true
   },
   "outputs": [],
   "source": [
    "i = 1\n",
    "for video in videos:\n",
    "    for key in videos_info.keys():\n",
    "        if key == 'q':\n",
    "            item = recipe_list[6]\n",
    "            videos_info[key].append(item)\n",
    "        if key == 'rank':\n",
    "            videos_info[key].append(i)\n",
    "            i = i + 1 \n",
    "        if key == 'title':\n",
    "            videos_info[key].append(video['snippet']['title'])\n",
    "        if key == 'description':\n",
    "            videos_info[key].append(video['snippet']['description'])\n",
    "        if key == 'channelTitle':\n",
    "            videos_info[key].append(video['snippet']['channelTitle'])"
   ]
  },
  {
   "cell_type": "code",
   "execution_count": 316,
   "metadata": {},
   "outputs": [
    {
     "data": {
      "text/plain": [
       "['Light and Creamy Cheesecake Recipe',\n",
       " 'The Best New York Cheesecake Recipe | Emojoie Cuisine',\n",
       " 'Easy Cheesecake Recipe',\n",
       " 'How to Make the Creamiest Cheesecake',\n",
       " 'How to make the PERFECT CHEESECAKE with Cherry Sauce',\n",
       " 'How to Make Soft and Chewy Oatmeal Raisin Cookies - Oatmeal Cookie Recipe',\n",
       " 'The Best Recipe for Chewy Oatmeal Cookies is Not on the Back of the Oat Canister',\n",
       " 'Crispy Oatmeal Cookies Recipe Demonstration - Joyofbaking.com',\n",
       " 'HOW TO MAKE OATMEAL COOKIES',\n",
       " 'Oatmeal Chocolate Chip Cookies',\n",
       " 'Easy Homemade Belgian Waffle Recipe',\n",
       " 'How to Make Perfect Homemade Waffles',\n",
       " 'Homemade Waffles Recipe - Laura Vitale - Laura in the Kitchen Episode 326',\n",
       " 'Perfect Waffle Recipe - Crispy &amp; Fluffy - Lockdown Kitchen!',\n",
       " 'Professional Baker&#39;s Best Waffles Recipe!',\n",
       " 'PORK CHOP | EASIEST WAY TO MAKE TENDER &amp; JUICY PORK CHOP',\n",
       " 'Pork Chops with Sweet and Sour Peppers - Gordon Ramsay',\n",
       " 'Honey Garlic Pork Chops',\n",
       " 'Best Fried Pork Chop Recipe! How to Cook Pork Chops!',\n",
       " 'Pork Chops in the OVEN Recipe, Extremely Tender &amp; Juicy |This is a Must Try!!',\n",
       " 'The Best Cauliflower Pizza Crust Recipe That Won&#39;t Fall Apart',\n",
       " 'CAULIFLOWER PIZZA CRUST | best low-carb + keto pizza crust',\n",
       " 'Easy Cauliflower Pizza Crust Recipe that won´t Fall Apart!',\n",
       " 'Cauliflower Pizza Crust Recipe - Cauliflower Pizza &quot;Dough&quot; Recipe',\n",
       " '🍕🍕🍕 The Best Cauliflower Pizza Recipe | Episode 1232',\n",
       " 'Chocolate Lava Cake',\n",
       " 'How To Make A Chocolate Lava Cake • Tasty',\n",
       " 'Chocolate Lava Cake',\n",
       " 'How to Make Chocolate Lava Cakes Recipe | Molten Chocolate Cake',\n",
       " 'How to Make Chocolate Molten Lava Cake | Get the Dish',\n",
       " 'Red Velvet Cake Recipe | How to Make Red Velvet Cake',\n",
       " 'Red Velvet Cake Recipe',\n",
       " 'How to make the Best Moist Red Velvet Cake',\n",
       " 'How to Make Red Velvet Cake',\n",
       " 'How to make a REAL Red Velvet Cake from scratch']"
      ]
     },
     "execution_count": 316,
     "metadata": {},
     "output_type": "execute_result"
    }
   ],
   "source": [
    "videos_info['title']"
   ]
  },
  {
   "cell_type": "code",
   "execution_count": 317,
   "metadata": {},
   "outputs": [
    {
     "data": {
      "text/plain": [
       "['Cinnamon French Toast Recipe',\n",
       " 'Cinnamon French Toast Recipe',\n",
       " 'Cinnamon French Toast Recipe',\n",
       " 'Cinnamon French Toast Recipe',\n",
       " 'Cinnamon French Toast Recipe',\n",
       " 'Oatmeal Cookies Recipe',\n",
       " 'Oatmeal Cookies Recipe',\n",
       " 'Oatmeal Cookies Recipe',\n",
       " 'Oatmeal Cookies Recipe',\n",
       " 'Oatmeal Cookies Recipe',\n",
       " 'Waffle Recipe',\n",
       " 'Waffle Recipe',\n",
       " 'Waffle Recipe',\n",
       " 'Waffle Recipe',\n",
       " 'Waffle Recipe',\n",
       " 'Pork Chop Recipe',\n",
       " 'Pork Chop Recipe',\n",
       " 'Pork Chop Recipe',\n",
       " 'Pork Chop Recipe',\n",
       " 'Pork Chop Recipe',\n",
       " 'Cauliflower Pizza Crust Recipe',\n",
       " 'Cauliflower Pizza Crust Recipe',\n",
       " 'Cauliflower Pizza Crust Recipe',\n",
       " 'Cauliflower Pizza Crust Recipe',\n",
       " 'Cauliflower Pizza Crust Recipe',\n",
       " 'Chocolate Lava Cake Recipe',\n",
       " 'Chocolate Lava Cake Recipe',\n",
       " 'Chocolate Lava Cake Recipe',\n",
       " 'Chocolate Lava Cake Recipe',\n",
       " 'Chocolate Lava Cake Recipe',\n",
       " 'Red Velvet Cake Recipe',\n",
       " 'Red Velvet Cake Recipe',\n",
       " 'Red Velvet Cake Recipe',\n",
       " 'Red Velvet Cake Recipe',\n",
       " 'Red Velvet Cake Recipe']"
      ]
     },
     "execution_count": 317,
     "metadata": {},
     "output_type": "execute_result"
    }
   ],
   "source": [
    "videos_info['q']"
   ]
  },
  {
   "cell_type": "code",
   "execution_count": 318,
   "metadata": {
    "collapsed": true
   },
   "outputs": [],
   "source": [
    "request = youtube.search().list(q=recipe_list[7], part='snippet', maxResults=5, type='video')\n",
    "res = request.execute()\n",
    "videos = res['items']"
   ]
  },
  {
   "cell_type": "code",
   "execution_count": 319,
   "metadata": {
    "collapsed": true
   },
   "outputs": [],
   "source": [
    "i = 1\n",
    "for video in videos:\n",
    "    for key in videos_info.keys():\n",
    "        if key == 'q':\n",
    "            item = recipe_list[7]\n",
    "            videos_info[key].append(item)\n",
    "        if key == 'rank':\n",
    "            videos_info[key].append(i)\n",
    "            i = i + 1 \n",
    "        if key == 'title':\n",
    "            videos_info[key].append(video['snippet']['title'])\n",
    "        if key == 'description':\n",
    "            videos_info[key].append(video['snippet']['description'])\n",
    "        if key == 'channelTitle':\n",
    "            videos_info[key].append(video['snippet']['channelTitle'])"
   ]
  },
  {
   "cell_type": "code",
   "execution_count": 320,
   "metadata": {
    "collapsed": true
   },
   "outputs": [],
   "source": [
    "request = youtube.search().list(q=recipe_list[8], part='snippet', maxResults=5, type='video')\n",
    "res = request.execute()\n",
    "videos = res['items']"
   ]
  },
  {
   "cell_type": "code",
   "execution_count": 321,
   "metadata": {
    "collapsed": true
   },
   "outputs": [],
   "source": [
    "i = 1\n",
    "for video in videos:\n",
    "    for key in videos_info.keys():\n",
    "        if key == 'q':\n",
    "            item = recipe_list[8]\n",
    "            videos_info[key].append(item)\n",
    "        if key == 'rank':\n",
    "            videos_info[key].append(i)\n",
    "            i = i + 1 \n",
    "        if key == 'title':\n",
    "            videos_info[key].append(video['snippet']['title'])\n",
    "        if key == 'description':\n",
    "            videos_info[key].append(video['snippet']['description'])\n",
    "        if key == 'channelTitle':\n",
    "            videos_info[key].append(video['snippet']['channelTitle'])"
   ]
  },
  {
   "cell_type": "code",
   "execution_count": 322,
   "metadata": {
    "collapsed": true
   },
   "outputs": [],
   "source": [
    "request = youtube.search().list(q=recipe_list[9], part='snippet', maxResults=5, type='video')\n",
    "res = request.execute()\n",
    "videos = res['items']"
   ]
  },
  {
   "cell_type": "code",
   "execution_count": 323,
   "metadata": {
    "collapsed": true
   },
   "outputs": [],
   "source": [
    "i = 1\n",
    "for video in videos:\n",
    "    for key in videos_info.keys():\n",
    "        if key == 'q':\n",
    "            item = recipe_list[9]\n",
    "            videos_info[key].append(item)\n",
    "        if key == 'rank':\n",
    "            videos_info[key].append(i)\n",
    "            i = i + 1 \n",
    "        if key == 'title':\n",
    "            videos_info[key].append(video['snippet']['title'])\n",
    "        if key == 'description':\n",
    "            videos_info[key].append(video['snippet']['description'])\n",
    "        if key == 'channelTitle':\n",
    "            videos_info[key].append(video['snippet']['channelTitle'])"
   ]
  },
  {
   "cell_type": "code",
   "execution_count": 324,
   "metadata": {
    "collapsed": true
   },
   "outputs": [],
   "source": [
    "request = youtube.search().list(q=recipe_list[10], part='snippet', maxResults=5, type='video')\n",
    "res = request.execute()\n",
    "videos = res['items']\n",
    "\n",
    "i = 1\n",
    "for video in videos:\n",
    "    for key in videos_info.keys():\n",
    "        if key == 'q':\n",
    "            item = recipe_list[10]\n",
    "            videos_info[key].append(item)\n",
    "        if key == 'rank':\n",
    "            videos_info[key].append(i)\n",
    "            i = i + 1 \n",
    "        if key == 'title':\n",
    "            videos_info[key].append(video['snippet']['title'])\n",
    "        if key == 'description':\n",
    "            videos_info[key].append(video['snippet']['description'])\n",
    "        if key == 'channelTitle':\n",
    "            videos_info[key].append(video['snippet']['channelTitle'])"
   ]
  },
  {
   "cell_type": "code",
   "execution_count": 325,
   "metadata": {
    "collapsed": true
   },
   "outputs": [],
   "source": [
    "request = youtube.search().list(q=recipe_list[11], part='snippet', maxResults=5, type='video')\n",
    "res = request.execute()\n",
    "videos = res['items']\n",
    "\n",
    "i = 1\n",
    "for video in videos:\n",
    "    for key in videos_info.keys():\n",
    "        if key == 'q':\n",
    "            item = recipe_list[11]\n",
    "            videos_info[key].append(item)\n",
    "        if key == 'rank':\n",
    "            videos_info[key].append(i)\n",
    "            i = i + 1 \n",
    "        if key == 'title':\n",
    "            videos_info[key].append(video['snippet']['title'])\n",
    "        if key == 'description':\n",
    "            videos_info[key].append(video['snippet']['description'])\n",
    "        if key == 'channelTitle':\n",
    "            videos_info[key].append(video['snippet']['channelTitle'])"
   ]
  },
  {
   "cell_type": "code",
   "execution_count": 326,
   "metadata": {},
   "outputs": [
    {
     "data": {
      "text/plain": [
       "['Cinnamon French Toast Recipe',\n",
       " 'Cinnamon French Toast Recipe',\n",
       " 'Cinnamon French Toast Recipe',\n",
       " 'Cinnamon French Toast Recipe',\n",
       " 'Cinnamon French Toast Recipe',\n",
       " 'Oatmeal Cookies Recipe',\n",
       " 'Oatmeal Cookies Recipe',\n",
       " 'Oatmeal Cookies Recipe',\n",
       " 'Oatmeal Cookies Recipe',\n",
       " 'Oatmeal Cookies Recipe',\n",
       " 'Waffle Recipe',\n",
       " 'Waffle Recipe',\n",
       " 'Waffle Recipe',\n",
       " 'Waffle Recipe',\n",
       " 'Waffle Recipe',\n",
       " 'Pork Chop Recipe',\n",
       " 'Pork Chop Recipe',\n",
       " 'Pork Chop Recipe',\n",
       " 'Pork Chop Recipe',\n",
       " 'Pork Chop Recipe',\n",
       " 'Cauliflower Pizza Crust Recipe',\n",
       " 'Cauliflower Pizza Crust Recipe',\n",
       " 'Cauliflower Pizza Crust Recipe',\n",
       " 'Cauliflower Pizza Crust Recipe',\n",
       " 'Cauliflower Pizza Crust Recipe',\n",
       " 'Chocolate Lava Cake Recipe',\n",
       " 'Chocolate Lava Cake Recipe',\n",
       " 'Chocolate Lava Cake Recipe',\n",
       " 'Chocolate Lava Cake Recipe',\n",
       " 'Chocolate Lava Cake Recipe',\n",
       " 'Red Velvet Cake Recipe',\n",
       " 'Red Velvet Cake Recipe',\n",
       " 'Red Velvet Cake Recipe',\n",
       " 'Red Velvet Cake Recipe',\n",
       " 'Red Velvet Cake Recipe',\n",
       " 'Shrimp Scampi Recipe',\n",
       " 'Shrimp Scampi Recipe',\n",
       " 'Shrimp Scampi Recipe',\n",
       " 'Shrimp Scampi Recipe',\n",
       " 'Shrimp Scampi Recipe',\n",
       " 'Pizza Dough Recipe',\n",
       " 'Pizza Dough Recipe',\n",
       " 'Pizza Dough Recipe',\n",
       " 'Pizza Dough Recipe',\n",
       " 'Pizza Dough Recipe',\n",
       " 'Apple Crumble Recipe',\n",
       " 'Apple Crumble Recipe',\n",
       " 'Apple Crumble Recipe',\n",
       " 'Apple Crumble Recipe',\n",
       " 'Apple Crumble Recipe',\n",
       " 'Chicken Marsala Recipe',\n",
       " 'Chicken Marsala Recipe',\n",
       " 'Chicken Marsala Recipe',\n",
       " 'Chicken Marsala Recipe',\n",
       " 'Chicken Marsala Recipe',\n",
       " 'Chicken Fried Steak Recipe',\n",
       " 'Chicken Fried Steak Recipe',\n",
       " 'Chicken Fried Steak Recipe',\n",
       " 'Chicken Fried Steak Recipe',\n",
       " 'Chicken Fried Steak Recipe']"
      ]
     },
     "execution_count": 326,
     "metadata": {},
     "output_type": "execute_result"
    }
   ],
   "source": [
    "videos_info['q']"
   ]
  },
  {
   "cell_type": "code",
   "execution_count": 327,
   "metadata": {},
   "outputs": [
    {
     "data": {
      "text/plain": [
       "['Light and Creamy Cheesecake Recipe',\n",
       " 'The Best New York Cheesecake Recipe | Emojoie Cuisine',\n",
       " 'Easy Cheesecake Recipe',\n",
       " 'How to Make the Creamiest Cheesecake',\n",
       " 'How to make the PERFECT CHEESECAKE with Cherry Sauce',\n",
       " 'How to Make Soft and Chewy Oatmeal Raisin Cookies - Oatmeal Cookie Recipe',\n",
       " 'The Best Recipe for Chewy Oatmeal Cookies is Not on the Back of the Oat Canister',\n",
       " 'Crispy Oatmeal Cookies Recipe Demonstration - Joyofbaking.com',\n",
       " 'HOW TO MAKE OATMEAL COOKIES',\n",
       " 'Oatmeal Chocolate Chip Cookies',\n",
       " 'Easy Homemade Belgian Waffle Recipe',\n",
       " 'How to Make Perfect Homemade Waffles',\n",
       " 'Homemade Waffles Recipe - Laura Vitale - Laura in the Kitchen Episode 326',\n",
       " 'Perfect Waffle Recipe - Crispy &amp; Fluffy - Lockdown Kitchen!',\n",
       " 'Professional Baker&#39;s Best Waffles Recipe!',\n",
       " 'PORK CHOP | EASIEST WAY TO MAKE TENDER &amp; JUICY PORK CHOP',\n",
       " 'Pork Chops with Sweet and Sour Peppers - Gordon Ramsay',\n",
       " 'Honey Garlic Pork Chops',\n",
       " 'Best Fried Pork Chop Recipe! How to Cook Pork Chops!',\n",
       " 'Pork Chops in the OVEN Recipe, Extremely Tender &amp; Juicy |This is a Must Try!!',\n",
       " 'The Best Cauliflower Pizza Crust Recipe That Won&#39;t Fall Apart',\n",
       " 'CAULIFLOWER PIZZA CRUST | best low-carb + keto pizza crust',\n",
       " 'Easy Cauliflower Pizza Crust Recipe that won´t Fall Apart!',\n",
       " 'Cauliflower Pizza Crust Recipe - Cauliflower Pizza &quot;Dough&quot; Recipe',\n",
       " '🍕🍕🍕 The Best Cauliflower Pizza Recipe | Episode 1232',\n",
       " 'Chocolate Lava Cake',\n",
       " 'How To Make A Chocolate Lava Cake • Tasty',\n",
       " 'Chocolate Lava Cake',\n",
       " 'How to Make Chocolate Lava Cakes Recipe | Molten Chocolate Cake',\n",
       " 'How to Make Chocolate Molten Lava Cake | Get the Dish',\n",
       " 'Red Velvet Cake Recipe | How to Make Red Velvet Cake',\n",
       " 'Red Velvet Cake Recipe',\n",
       " 'How to make the Best Moist Red Velvet Cake',\n",
       " 'How to Make Red Velvet Cake',\n",
       " 'How to make a REAL Red Velvet Cake from scratch',\n",
       " 'How to Make Shrimp Scampi',\n",
       " 'Gordon Ramsay Cooks Shrimp Scampi In Just 10 Minutes | Ramsay in 10',\n",
       " 'Garlic Butter Shrimp Scampi',\n",
       " 'The Best Way to Make Perfect Shrimp Scampi at Home',\n",
       " 'Best Old School Shrimp Scampi | SAM THE COOKING GUY',\n",
       " 'Pizza Dough Recipe',\n",
       " 'Best Homemade Pizza Dough Recipe | How To Make Pizza Crust',\n",
       " 'How to Make Pizza Dough at Home | The New York Times',\n",
       " 'The Best Homemade Pizza You&#39;ll Ever Eat',\n",
       " 'Quick and EASY Pizza Dough/ Base Recipe',\n",
       " 'Homemade Apple Crumble Recipe',\n",
       " 'Apple Crumble - Easy recipe',\n",
       " 'How to Make Fruit Crumble | Three Ways | Jamie Oliver',\n",
       " 'Easy Apple Cobbler Recipe',\n",
       " 'Apple Crumble | Sanjeev Kapoor Khazana',\n",
       " 'Chicken Marsala Recipe',\n",
       " 'Creamy Chicken Marsala Recipe - 30 Minute Dinner',\n",
       " 'Creamy Chicken Marsala',\n",
       " 'This will be your favourite chicken Marsala Recipe (with wild mushrooms)',\n",
       " 'Chicken Marsala Recipe - Laura Vitale &quot;Laura In The Kitchen&quot; Episode 22',\n",
       " 'How to Make the Best Chicken Fried Steak | Chicken Recipe | Allrecipes.com',\n",
       " 'How to Make Ree&#39;s Chicken Fried Steak | Food Network',\n",
       " 'How to Make Alton Brown&#39;s Chicken-Fried Steak | Food Network',\n",
       " 'How To Make Country Fried Steak and Gravy •\\xa0Tasty',\n",
       " 'Chicken Fried Steak with Kent Rollins']"
      ]
     },
     "execution_count": 327,
     "metadata": {},
     "output_type": "execute_result"
    }
   ],
   "source": [
    "videos_info['title']"
   ]
  },
  {
   "cell_type": "code",
   "execution_count": 236,
   "metadata": {},
   "outputs": [
    {
     "data": {
      "text/plain": [
       "[\"If you prefer your pork chop to be tender and juicy you're on the right channel. Keep on watching so you won't miss anything! Spiced vinegar dipping sauce ...\",\n",
       " \"Gordon shows you Pork Chops with Sweet & Sour Peppers - and how to slice vegetables simply and easily. From Gordon Ramsay's Ultimate Cookery Course.\",\n",
       " 'Juicy Honey Garlic Pork Chops with caramelised edges ready and on your table in less than 15 minutes! Smothered in the best 4-ingredient sauce!',\n",
       " \"Best Fried Pork Chop Recipe! Here's another dinner classic video recipe on how to make a southern fried pork chop. This is an ease to follow video showing ...\",\n",
       " \"The most Juiciest and delicious pork chops you'll ever tasteThe most Juiciest and delicious pork chops you'll ever taste. the perfect moist pork chops in the oven.\",\n",
       " 'For the full Chewy Oatmeal Cookie Recipe with ingredient amounts and instructions, please visit our recipe page on Inspired Taste: ...',\n",
       " 'Julia teaches Bridget the secrets to the best Chewy Oatmeal Cookies. Get the recipe for Chewy Oatmeal Cookies: https://cooks.io/2q33t4O Buy our winning ...',\n",
       " 'Recipe here: http://www.joyofbaking.com/CrispyOatmealCookies.html Stephanie Jaworski of Joyofbaking.com demonstrates how to make Crispy Oatmeal ...',\n",
       " 'An easy recipe for big, soft, Oatmeal Cookies. ↓↓↓↓↓CLICK FOR MORE↓↓↓↓↓ Printable recipe here: ...',\n",
       " 'These delicious oatmeal chocolate chip cookies have JUST the right combination of crisp on the outside, chewy on the inside amazingness and of course big ...',\n",
       " \"Make Belgian waffles like a pro! Here's an easy to follow homemade Belgian waffle recipe for waffles that are crispy light and delicious! Note this recipe will ...\",\n",
       " 'Making homemade waffles has never been easier! This waffle recipe is fail proof and can be made ahead and kept in the fridge for up to 5 days. It makes a ...',\n",
       " 'To get this complete recipe with instructions and measurements, check out my website: http://www.LauraintheKitchen.com Official Facebook Page: ...',\n",
       " 'Thanks to Skillshare for sponsoring this video! The first 1000 people who click this link will get 2 free months of Skillshare Premium: https://skl.sh/pailinskitchen ...',\n",
       " 'Chef Anna Olson makes shows you how to make amazing buttermilk waffles from scratch! These big, homemade waffles can be made with chocolate chips if ...',\n",
       " \"If you prefer your pork chop to be tender and juicy you're on the right channel. Keep on watching so you won't miss anything! Spiced vinegar dipping sauce ...\",\n",
       " \"Gordon shows you Pork Chops with Sweet & Sour Peppers - and how to slice vegetables simply and easily. From Gordon Ramsay's Ultimate Cookery Course.\",\n",
       " 'Juicy Honey Garlic Pork Chops with caramelised edges ready and on your table in less than 15 minutes! Smothered in the best 4-ingredient sauce!',\n",
       " \"Best Fried Pork Chop Recipe! Here's another dinner classic video recipe on how to make a southern fried pork chop. This is an ease to follow video showing ...\",\n",
       " \"The most Juiciest and delicious pork chops you'll ever tasteThe most Juiciest and delicious pork chops you'll ever taste. the perfect moist pork chops in the oven.\",\n",
       " \"You can make the best cauliflower pizza crust recipe that will not fall apart. Slice it, hold it, eat it--it keeps it's shape --and it actually tastes like pizza!\",\n",
       " \"Cauliflower pizza crust is a delicious gluten-free, low-carb, keto alternative to your traditional pizza. It's a simple blend of cauliflower, eggs, cheese, and a few ...\",\n",
       " 'EPISODE #142 - Easy Cauliflower Pizza Crust Recipe that won´t Fall Apart! FULL RECIPE HERE: http://www.spainonafork.com/cauliflower-pizza-crust-recipe/ ...',\n",
       " 'Learn how to make a Cauliflower Pizza Crust Recipe! Go to http://foodwishes.blogspot.com/2014/02/cauliflower-pizza-crust-dont-let-name.html for the ingredient ...',\n",
       " 'To get this complete recipe with instructions and measurements, check out my website: http://www.LauraintheKitchen.com Instagram: ...',\n",
       " \"This decadent easy to make chocolate lava cake will melt on your plate and in your mouth! The cake whips up in a few minutes and there's NO decoration to ...\",\n",
       " \"How DO you make a chocolate lava cake??? Subscribe to Tasty: https://bzfd.it/2ri82Z1 About Tasty: The official YouTube channel of all things Tasty, the world's ...\",\n",
       " 'One of the best chocolate cakes recipe. Smooth, delicate and delicious. Crusty top while inside is still runny. For printing the recipe you can go to: ...',\n",
       " 'Learn how to make Chocolate Lava Cakes. This lava cake recipe is decadent, filled with a gooey \"molten\" chocolate center, and super-easy to make.',\n",
       " \"Get ready to give in to the dark side with this decadent molten chocolate lava cake! While this seems hard to make, it's actually quite easy, so get ready to ...\",\n",
       " 'The most amazing red velvet cake recipe with cream cheese frosting. This cake is so moist, fluffy, rich and velvety. Perfect cake for holidays, birthdays, ...',\n",
       " 'Red Velvet Cake - soft and moist interior with a great flavor combination coming from vanilla, cocoa powder and buttermilk. This cake has a wonderful red color ...',\n",
       " 'HELP ME REACH 20k SUBSCRIBERS FAM.. ❤️ SUBSCRIBE HERE https://www.youtube.com/channel/UC4KkDpSvoLq68uOlUqiIdKw ...',\n",
       " 'A light chocolate Red Velvet cake with lots of addictive cream cheese frosting and a crown of buttercream roses. This cake is moist but so light and fluffy, it really ...',\n",
       " \"What does red velvet cake taste like? No, it's not just a chocolate cake with red food coloring! No way! A real red velvet cake has buttermilk, vinegar, a TINY bit of ...\",\n",
       " 'This easy and ultra-satisfying shrimp scampi recipe comes together in twenty minutes and is totally delicious! Packed with lemony, garlic goodness, buttery pasta ...',\n",
       " \"Gordon is out to prove that all you need to make a stunning dish is 10 Minutes and incredible ingredients. So on Ramsay in 10 he's challenging some of his ...\",\n",
       " 'Garlic Butter Shrimp Scampi Is So Quick And Easy! A Garlic Buttery Scampi Sauce With A Hint Of White Wine & Lemon In Less Than 10 Minutes! RECIPE HERE: ...',\n",
       " \"You can't beat this super quick & easy recipe for old school shrimp scampi - so just make it! SUBSCRIBE: http://bit.ly/stcgsub | MERCH: http://bit.ly/M_A_C_A ...\",\n",
       " 'Elle shows Julia the best way to make Shrimp Scampi. Get the recipe for Shrimp Scampi: http://cooks.io/2Hk5UGb Buy Our Winning 12-inch Stainless Steel ...',\n",
       " \"Making pizza dough at home is really easy and there's none of the exact proofing time and perfect kneading technique required by some finicky bread recipes.\",\n",
       " 'How to make the best pizza dough - the way pros make homemade pizza! Make a cheese pizza or add your favorite toppings with this classic make-ahead pizza ...',\n",
       " \"Anthony Falco of Roberta's in Bushwick, Brooklyn, teaches Sam Sifton how to make restaurant-style pizza dough at home. Subscribe on YouTube: ...\",\n",
       " 'Get the recipe for the best homemade pizza: https://www.buzzfeed.com/marietelling/pizza-dough-recipe?utm_term=.ioz4kpD7lA#.lsDMVvejlW Kiano teaches us ...',\n",
       " 'Check out this Easy and Quick Pizza Dough/ Base Recipe For a delicious crispy crust, we recommend using the Culinary Couture pizza stone ...',\n",
       " \"This week I'll be showing you how to make a delicious homemade Apple Crumble. This is one of my favourite recipes. For more recipes like this uploaded every ...\",\n",
       " 'Welcome to my channel! This is my first video, hope you enjoy.. more videos coming soon. Apple crumble recipe: 115g butter 115g sugar 175g plain flour Filling: ...',\n",
       " \"Let's get ready to Crumble! If you don't know what a crumble is, then today is your lucky day, as Jamie shows us three fantastic ones. They're a fruity dessert with ...\",\n",
       " \"My EASY apple cobbler recipe is basically foolproof and SO delicious; think of it as apple pie's less fussy friend. Every of this apple dessert bite has just the right ...\",\n",
       " 'Absolutely delicious and of the favourite dessert recipes of all. Watch this video to find out how to make this recipe. APPLE CRUMBLE Ingredients 3 apples ½ ...',\n",
       " 'Today I would like to share with you my Chicken Marsala Recipe. Written Recipe: http://orsararecipes.net/chicken-marsala-recipe ~MERCH~ My t-shirts: ...',\n",
       " 'A restaurant-quality Chicken Marsala you can make right from the comfort of your own kitchen. This recipe features pan-fried chicken topped with a creamy and ...',\n",
       " 'Creamy Chicken Marsala in a delicious mushroom sauce rivals any restaurant! Cook a chef tasting chicken recipe right at home like a pro! FULL RECIPE HERE: ...',\n",
       " 'Chicken Marsala is made using a fortified wine that originated in Sicily, like Sherry or Madeira. This version has a cream sauce and reduced with dried wild ...',\n",
       " \"Satisfy your inner Italian with Classic Chicken Marsala. This Italian-inspired dinner features pan fried chicken in a Marsala reduction sauce. And get this, it's ...\",\n",
       " 'Get the recipe @ http://allrecipes.com/recipe/the-best-chicken-fried-steak/detail.aspx Watch how to make Southern-style chicken-fried steak and creamy gravy.',\n",
       " 'Tenderized cubed steak coated with breadcrumbs and pan-fried to perfection, then topped with creamy gravy — yes, please! Have you downloaded the new ...',\n",
       " \"Alton's chicken-fried steak smothered in gravy: what could be more classic? Have you downloaded the new Food Network Kitchen app yet? With up to 25 ...\",\n",
       " 'Looking for some comfort food after a long day? Learn how to make country fried steak and gravy for a midweek pick me up! If you want more of Tasty, check out ...',\n",
       " \"Chicken fried steak or country fried steak is a delicious dish from America that we don't see in Australia. It's a similar concept to a veal or beef schnitzel, and ...\"]"
      ]
     },
     "execution_count": 236,
     "metadata": {},
     "output_type": "execute_result"
    }
   ],
   "source": [
    "videos_info['description']"
   ]
  },
  {
   "cell_type": "code",
   "execution_count": 328,
   "metadata": {
    "collapsed": true
   },
   "outputs": [],
   "source": [
    "request = youtube.search().list(q=recipe_list[12], part='snippet', maxResults=5, type='video')\n",
    "res = request.execute()\n",
    "videos = res['items']\n",
    "\n",
    "i = 1\n",
    "for video in videos:\n",
    "    for key in videos_info.keys():\n",
    "        if key == 'q':\n",
    "            item = recipe_list[12]\n",
    "            videos_info[key].append(item)\n",
    "        if key == 'rank':\n",
    "            videos_info[key].append(i)\n",
    "            i = i + 1 \n",
    "        if key == 'title':\n",
    "            videos_info[key].append(video['snippet']['title'])\n",
    "        if key == 'description':\n",
    "            videos_info[key].append(video['snippet']['description'])\n",
    "        if key == 'channelTitle':\n",
    "            videos_info[key].append(video['snippet']['channelTitle'])"
   ]
  },
  {
   "cell_type": "code",
   "execution_count": 329,
   "metadata": {
    "collapsed": true
   },
   "outputs": [],
   "source": [
    "request = youtube.search().list(q=recipe_list[13], part='snippet', maxResults=5, type='video')\n",
    "res = request.execute()\n",
    "videos = res['items']\n",
    "\n",
    "i = 1\n",
    "for video in videos:\n",
    "    for key in videos_info.keys():\n",
    "        if key == 'q':\n",
    "            item = recipe_list[13]\n",
    "            videos_info[key].append(item)\n",
    "        if key == 'rank':\n",
    "            videos_info[key].append(i)\n",
    "            i = i + 1 \n",
    "        if key == 'title':\n",
    "            videos_info[key].append(video['snippet']['title'])\n",
    "        if key == 'description':\n",
    "            videos_info[key].append(video['snippet']['description'])\n",
    "        if key == 'channelTitle':\n",
    "            videos_info[key].append(video['snippet']['channelTitle'])"
   ]
  },
  {
   "cell_type": "code",
   "execution_count": 330,
   "metadata": {
    "collapsed": true
   },
   "outputs": [],
   "source": [
    "request = youtube.search().list(q=recipe_list[14], part='snippet', maxResults=5, type='video')\n",
    "res = request.execute()\n",
    "videos = res['items']\n",
    "\n",
    "i = 1\n",
    "for video in videos:\n",
    "    for key in videos_info.keys():\n",
    "        if key == 'q':\n",
    "            item = recipe_list[14]\n",
    "            videos_info[key].append(item)\n",
    "        if key == 'rank':\n",
    "            videos_info[key].append(i)\n",
    "            i = i + 1 \n",
    "        if key == 'title':\n",
    "            videos_info[key].append(video['snippet']['title'])\n",
    "        if key == 'description':\n",
    "            videos_info[key].append(video['snippet']['description'])\n",
    "        if key == 'channelTitle':\n",
    "            videos_info[key].append(video['snippet']['channelTitle'])"
   ]
  },
  {
   "cell_type": "code",
   "execution_count": 331,
   "metadata": {
    "collapsed": true
   },
   "outputs": [],
   "source": [
    "request = youtube.search().list(q=recipe_list[15], part='snippet', maxResults=5, type='video')\n",
    "res = request.execute()\n",
    "videos = res['items']\n",
    "\n",
    "i = 1\n",
    "for video in videos:\n",
    "    for key in videos_info.keys():\n",
    "        if key == 'q':\n",
    "            item = recipe_list[15]\n",
    "            videos_info[key].append(item)\n",
    "        if key == 'rank':\n",
    "            videos_info[key].append(i)\n",
    "            i = i + 1 \n",
    "        if key == 'title':\n",
    "            videos_info[key].append(video['snippet']['title'])\n",
    "        if key == 'description':\n",
    "            videos_info[key].append(video['snippet']['description'])\n",
    "        if key == 'channelTitle':\n",
    "            videos_info[key].append(video['snippet']['channelTitle'])"
   ]
  },
  {
   "cell_type": "code",
   "execution_count": 332,
   "metadata": {
    "collapsed": true
   },
   "outputs": [],
   "source": [
    "request = youtube.search().list(q=recipe_list[16], part='snippet', maxResults=5, type='video')\n",
    "res = request.execute()\n",
    "videos = res['items']\n",
    "\n",
    "i = 1\n",
    "for video in videos:\n",
    "    for key in videos_info.keys():\n",
    "        if key == 'q':\n",
    "            item = recipe_list[16]\n",
    "            videos_info[key].append(item)\n",
    "        if key == 'rank':\n",
    "            videos_info[key].append(i)\n",
    "            i = i + 1 \n",
    "        if key == 'title':\n",
    "            videos_info[key].append(video['snippet']['title'])\n",
    "        if key == 'description':\n",
    "            videos_info[key].append(video['snippet']['description'])\n",
    "        if key == 'channelTitle':\n",
    "            videos_info[key].append(video['snippet']['channelTitle'])"
   ]
  },
  {
   "cell_type": "code",
   "execution_count": 333,
   "metadata": {
    "collapsed": true
   },
   "outputs": [],
   "source": [
    "request = youtube.search().list(q=recipe_list[17], part='snippet', maxResults=5, type='video')\n",
    "res = request.execute()\n",
    "videos = res['items']\n",
    "\n",
    "i = 1\n",
    "for video in videos:\n",
    "    for key in videos_info.keys():\n",
    "        if key == 'q':\n",
    "            item = recipe_list[17]\n",
    "            videos_info[key].append(item)\n",
    "        if key == 'rank':\n",
    "            videos_info[key].append(i)\n",
    "            i = i + 1 \n",
    "        if key == 'title':\n",
    "            videos_info[key].append(video['snippet']['title'])\n",
    "        if key == 'description':\n",
    "            videos_info[key].append(video['snippet']['description'])\n",
    "        if key == 'channelTitle':\n",
    "            videos_info[key].append(video['snippet']['channelTitle'])"
   ]
  },
  {
   "cell_type": "code",
   "execution_count": 334,
   "metadata": {
    "collapsed": true
   },
   "outputs": [],
   "source": [
    "request = youtube.search().list(q=recipe_list[18], part='snippet', maxResults=5, type='video')\n",
    "res = request.execute()\n",
    "videos = res['items']\n",
    "\n",
    "i = 1\n",
    "for video in videos:\n",
    "    for key in videos_info.keys():\n",
    "        if key == 'q':\n",
    "            item = recipe_list[18]\n",
    "            videos_info[key].append(item)\n",
    "        if key == 'rank':\n",
    "            videos_info[key].append(i)\n",
    "            i = i + 1 \n",
    "        if key == 'title':\n",
    "            videos_info[key].append(video['snippet']['title'])\n",
    "        if key == 'description':\n",
    "            videos_info[key].append(video['snippet']['description'])\n",
    "        if key == 'channelTitle':\n",
    "            videos_info[key].append(video['snippet']['channelTitle'])"
   ]
  },
  {
   "cell_type": "code",
   "execution_count": 335,
   "metadata": {
    "collapsed": true
   },
   "outputs": [],
   "source": [
    "request = youtube.search().list(q=recipe_list[19], part='snippet', maxResults=5, type='video')\n",
    "res = request.execute()\n",
    "videos = res['items']\n",
    "\n",
    "i = 1\n",
    "for video in videos:\n",
    "    for key in videos_info.keys():\n",
    "        if key == 'q':\n",
    "            item = recipe_list[19]\n",
    "            videos_info[key].append(item)\n",
    "        if key == 'rank':\n",
    "            videos_info[key].append(i)\n",
    "            i = i + 1 \n",
    "        if key == 'title':\n",
    "            videos_info[key].append(video['snippet']['title'])\n",
    "        if key == 'description':\n",
    "            videos_info[key].append(video['snippet']['description'])\n",
    "        if key == 'channelTitle':\n",
    "            videos_info[key].append(video['snippet']['channelTitle'])"
   ]
  },
  {
   "cell_type": "code",
   "execution_count": 336,
   "metadata": {
    "collapsed": true
   },
   "outputs": [],
   "source": [
    "request = youtube.search().list(q=recipe_list[20], part='snippet', maxResults=5, type='video')\n",
    "res = request.execute()\n",
    "videos = res['items']\n",
    "\n",
    "i = 1\n",
    "for video in videos:\n",
    "    for key in videos_info.keys():\n",
    "        if key == 'q':\n",
    "            item = recipe_list[20]\n",
    "            videos_info[key].append(item)\n",
    "        if key == 'rank':\n",
    "            videos_info[key].append(i)\n",
    "            i = i + 1 \n",
    "        if key == 'title':\n",
    "            videos_info[key].append(video['snippet']['title'])\n",
    "        if key == 'description':\n",
    "            videos_info[key].append(video['snippet']['description'])\n",
    "        if key == 'channelTitle':\n",
    "            videos_info[key].append(video['snippet']['channelTitle'])"
   ]
  },
  {
   "cell_type": "markdown",
   "metadata": {},
   "source": [
    "# use youtube video dictionary to make dataframe\n",
    "youtube_popular = pd.DataFrame(data=videos_info)\n",
    "youtube_popular.head()"
   ]
  },
  {
   "cell_type": "markdown",
   "metadata": {},
   "source": [
    "len(youtube_popular)"
   ]
  },
  {
   "cell_type": "code",
   "execution_count": 337,
   "metadata": {
    "collapsed": true
   },
   "outputs": [],
   "source": [
    "request = youtube.search().list(q=recipe_list[21], part='snippet', maxResults=5, type='video')\n",
    "res = request.execute()\n",
    "videos = res['items']\n",
    "\n",
    "i = 1\n",
    "for video in videos:\n",
    "    for key in videos_info.keys():\n",
    "        if key == 'q':\n",
    "            item = recipe_list[21]\n",
    "            videos_info[key].append(item)\n",
    "        if key == 'rank':\n",
    "            videos_info[key].append(i)\n",
    "            i = i + 1 \n",
    "        if key == 'title':\n",
    "            videos_info[key].append(video['snippet']['title'])\n",
    "        if key == 'description':\n",
    "            videos_info[key].append(video['snippet']['description'])\n",
    "        if key == 'channelTitle':\n",
    "            videos_info[key].append(video['snippet']['channelTitle'])"
   ]
  },
  {
   "cell_type": "code",
   "execution_count": 338,
   "metadata": {
    "collapsed": true
   },
   "outputs": [],
   "source": [
    "request = youtube.search().list(q=recipe_list[22], part='snippet', maxResults=5, type='video')\n",
    "res = request.execute()\n",
    "videos = res['items']\n",
    "\n",
    "i = 1\n",
    "for video in videos:\n",
    "    for key in videos_info.keys():\n",
    "        if key == 'q':\n",
    "            item = recipe_list[22]\n",
    "            videos_info[key].append(item)\n",
    "        if key == 'rank':\n",
    "            videos_info[key].append(i)\n",
    "            i = i + 1 \n",
    "        if key == 'title':\n",
    "            videos_info[key].append(video['snippet']['title'])\n",
    "        if key == 'description':\n",
    "            videos_info[key].append(video['snippet']['description'])\n",
    "        if key == 'channelTitle':\n",
    "            videos_info[key].append(video['snippet']['channelTitle'])"
   ]
  },
  {
   "cell_type": "code",
   "execution_count": 339,
   "metadata": {
    "collapsed": true
   },
   "outputs": [],
   "source": [
    "request = youtube.search().list(q=recipe_list[23], part='snippet', maxResults=5, type='video')\n",
    "res = request.execute()\n",
    "videos = res['items']\n",
    "\n",
    "i = 1\n",
    "for video in videos:\n",
    "    for key in videos_info.keys():\n",
    "        if key == 'q':\n",
    "            item = recipe_list[23]\n",
    "            videos_info[key].append(item)\n",
    "        if key == 'rank':\n",
    "            videos_info[key].append(i)\n",
    "            i = i + 1 \n",
    "        if key == 'title':\n",
    "            videos_info[key].append(video['snippet']['title'])\n",
    "        if key == 'description':\n",
    "            videos_info[key].append(video['snippet']['description'])\n",
    "        if key == 'channelTitle':\n",
    "            videos_info[key].append(video['snippet']['channelTitle'])"
   ]
  },
  {
   "cell_type": "code",
   "execution_count": 340,
   "metadata": {
    "collapsed": true
   },
   "outputs": [],
   "source": [
    "request = youtube.search().list(q=recipe_list[24], part='snippet', maxResults=5, type='video')\n",
    "res = request.execute()\n",
    "videos = res['items']\n",
    "\n",
    "i = 1\n",
    "for video in videos:\n",
    "    for key in videos_info.keys():\n",
    "        if key == 'q':\n",
    "            item = recipe_list[24]\n",
    "            videos_info[key].append(item)\n",
    "        if key == 'rank':\n",
    "            videos_info[key].append(i)\n",
    "            i = i + 1 \n",
    "        if key == 'title':\n",
    "            videos_info[key].append(video['snippet']['title'])\n",
    "        if key == 'description':\n",
    "            videos_info[key].append(video['snippet']['description'])\n",
    "        if key == 'channelTitle':\n",
    "            videos_info[key].append(video['snippet']['channelTitle'])"
   ]
  },
  {
   "cell_type": "code",
   "execution_count": 341,
   "metadata": {
    "collapsed": true
   },
   "outputs": [],
   "source": [
    "request = youtube.search().list(q=recipe_list[25], part='snippet', maxResults=5, type='video')\n",
    "res = request.execute()\n",
    "videos = res['items']\n",
    "\n",
    "i = 1\n",
    "for video in videos:\n",
    "    for key in videos_info.keys():\n",
    "        if key == 'q':\n",
    "            item = recipe_list[25]\n",
    "            videos_info[key].append(item)\n",
    "        if key == 'rank':\n",
    "            videos_info[key].append(i)\n",
    "            i = i + 1 \n",
    "        if key == 'title':\n",
    "            videos_info[key].append(video['snippet']['title'])\n",
    "        if key == 'description':\n",
    "            videos_info[key].append(video['snippet']['description'])\n",
    "        if key == 'channelTitle':\n",
    "            videos_info[key].append(video['snippet']['channelTitle'])"
   ]
  },
  {
   "cell_type": "code",
   "execution_count": 342,
   "metadata": {
    "collapsed": true
   },
   "outputs": [],
   "source": [
    "request = youtube.search().list(q=recipe_list[26], part='snippet', maxResults=5, type='video')\n",
    "res = request.execute()\n",
    "videos = res['items']\n",
    "\n",
    "i = 1\n",
    "for video in videos:\n",
    "    for key in videos_info.keys():\n",
    "        if key == 'q':\n",
    "            item = recipe_list[26]\n",
    "            videos_info[key].append(item)\n",
    "        if key == 'rank':\n",
    "            videos_info[key].append(i)\n",
    "            i = i + 1 \n",
    "        if key == 'title':\n",
    "            videos_info[key].append(video['snippet']['title'])\n",
    "        if key == 'description':\n",
    "            videos_info[key].append(video['snippet']['description'])\n",
    "        if key == 'channelTitle':\n",
    "            videos_info[key].append(video['snippet']['channelTitle'])"
   ]
  },
  {
   "cell_type": "code",
   "execution_count": 343,
   "metadata": {
    "collapsed": true
   },
   "outputs": [],
   "source": [
    "request = youtube.search().list(q=recipe_list[27], part='snippet', maxResults=5, type='video')\n",
    "res = request.execute()\n",
    "videos = res['items']\n",
    "\n",
    "i = 1\n",
    "for video in videos:\n",
    "    for key in videos_info.keys():\n",
    "        if key == 'q':\n",
    "            item = recipe_list[27]\n",
    "            videos_info[key].append(item)\n",
    "        if key == 'rank':\n",
    "            videos_info[key].append(i)\n",
    "            i = i + 1 \n",
    "        if key == 'title':\n",
    "            videos_info[key].append(video['snippet']['title'])\n",
    "        if key == 'description':\n",
    "            videos_info[key].append(video['snippet']['description'])\n",
    "        if key == 'channelTitle':\n",
    "            videos_info[key].append(video['snippet']['channelTitle'])"
   ]
  },
  {
   "cell_type": "code",
   "execution_count": 344,
   "metadata": {
    "collapsed": true
   },
   "outputs": [],
   "source": [
    "request = youtube.search().list(q=recipe_list[28], part='snippet', maxResults=5, type='video')\n",
    "res = request.execute()\n",
    "videos = res['items']\n",
    "\n",
    "i = 1\n",
    "for video in videos:\n",
    "    for key in videos_info.keys():\n",
    "        if key == 'q':\n",
    "            item = recipe_list[28]\n",
    "            videos_info[key].append(item)\n",
    "        if key == 'rank':\n",
    "            videos_info[key].append(i)\n",
    "            i = i + 1 \n",
    "        if key == 'title':\n",
    "            videos_info[key].append(video['snippet']['title'])\n",
    "        if key == 'description':\n",
    "            videos_info[key].append(video['snippet']['description'])\n",
    "        if key == 'channelTitle':\n",
    "            videos_info[key].append(video['snippet']['channelTitle'])"
   ]
  },
  {
   "cell_type": "code",
   "execution_count": 345,
   "metadata": {
    "collapsed": true
   },
   "outputs": [],
   "source": [
    "request = youtube.search().list(q=recipe_list[29], part='snippet', maxResults=5, type='video')\n",
    "res = request.execute()\n",
    "videos = res['items']\n",
    "\n",
    "i = 1\n",
    "for video in videos:\n",
    "    for key in videos_info.keys():\n",
    "        if key == 'q':\n",
    "            item = recipe_list[29]\n",
    "            videos_info[key].append(item)\n",
    "        if key == 'rank':\n",
    "            videos_info[key].append(i)\n",
    "            i = i + 1 \n",
    "        if key == 'title':\n",
    "            videos_info[key].append(video['snippet']['title'])\n",
    "        if key == 'description':\n",
    "            videos_info[key].append(video['snippet']['description'])\n",
    "        if key == 'channelTitle':\n",
    "            videos_info[key].append(video['snippet']['channelTitle'])"
   ]
  },
  {
   "cell_type": "code",
   "execution_count": 346,
   "metadata": {
    "collapsed": true
   },
   "outputs": [],
   "source": [
    "request = youtube.search().list(q=recipe_list[30], part='snippet', maxResults=5, type='video')\n",
    "res = request.execute()\n",
    "videos = res['items']\n",
    "\n",
    "i = 1\n",
    "for video in videos:\n",
    "    for key in videos_info.keys():\n",
    "        if key == 'q':\n",
    "            item = recipe_list[30]\n",
    "            videos_info[key].append(item)\n",
    "        if key == 'rank':\n",
    "            videos_info[key].append(i)\n",
    "            i = i + 1 \n",
    "        if key == 'title':\n",
    "            videos_info[key].append(video['snippet']['title'])\n",
    "        if key == 'description':\n",
    "            videos_info[key].append(video['snippet']['description'])\n",
    "        if key == 'channelTitle':\n",
    "            videos_info[key].append(video['snippet']['channelTitle'])"
   ]
  },
  {
   "cell_type": "code",
   "execution_count": 347,
   "metadata": {
    "collapsed": true
   },
   "outputs": [],
   "source": [
    "request = youtube.search().list(q=recipe_list[31], part='snippet', maxResults=5, type='video')\n",
    "res = request.execute()\n",
    "videos = res['items']\n",
    "\n",
    "i = 1\n",
    "for video in videos:\n",
    "    for key in videos_info.keys():\n",
    "        if key == 'q':\n",
    "            item = recipe_list[31]\n",
    "            videos_info[key].append(item)\n",
    "        if key == 'rank':\n",
    "            videos_info[key].append(i)\n",
    "            i = i + 1 \n",
    "        if key == 'title':\n",
    "            videos_info[key].append(video['snippet']['title'])\n",
    "        if key == 'description':\n",
    "            videos_info[key].append(video['snippet']['description'])\n",
    "        if key == 'channelTitle':\n",
    "            videos_info[key].append(video['snippet']['channelTitle'])"
   ]
  },
  {
   "cell_type": "code",
   "execution_count": 348,
   "metadata": {
    "collapsed": true
   },
   "outputs": [],
   "source": [
    "request = youtube.search().list(q=recipe_list[32], part='snippet', maxResults=5, type='video')\n",
    "res = request.execute()\n",
    "videos = res['items']\n",
    "\n",
    "i = 1\n",
    "for video in videos:\n",
    "    for key in videos_info.keys():\n",
    "        if key == 'q':\n",
    "            item = recipe_list[32]\n",
    "            videos_info[key].append(item)\n",
    "        if key == 'rank':\n",
    "            videos_info[key].append(i)\n",
    "            i = i + 1 \n",
    "        if key == 'title':\n",
    "            videos_info[key].append(video['snippet']['title'])\n",
    "        if key == 'description':\n",
    "            videos_info[key].append(video['snippet']['description'])\n",
    "        if key == 'channelTitle':\n",
    "            videos_info[key].append(video['snippet']['channelTitle'])"
   ]
  },
  {
   "cell_type": "code",
   "execution_count": 349,
   "metadata": {
    "collapsed": true
   },
   "outputs": [],
   "source": [
    "request = youtube.search().list(q=recipe_list[33], part='snippet', maxResults=5, type='video')\n",
    "res = request.execute()\n",
    "videos = res['items']\n",
    "\n",
    "i = 1\n",
    "for video in videos:\n",
    "    for key in videos_info.keys():\n",
    "        if key == 'q':\n",
    "            item = recipe_list[33]\n",
    "            videos_info[key].append(item)\n",
    "        if key == 'rank':\n",
    "            videos_info[key].append(i)\n",
    "            i = i + 1 \n",
    "        if key == 'title':\n",
    "            videos_info[key].append(video['snippet']['title'])\n",
    "        if key == 'description':\n",
    "            videos_info[key].append(video['snippet']['description'])\n",
    "        if key == 'channelTitle':\n",
    "            videos_info[key].append(video['snippet']['channelTitle'])"
   ]
  },
  {
   "cell_type": "code",
   "execution_count": 350,
   "metadata": {
    "collapsed": true
   },
   "outputs": [],
   "source": [
    "request = youtube.search().list(q=recipe_list[34], part='snippet', maxResults=5, type='video')\n",
    "res = request.execute()\n",
    "videos = res['items']\n",
    "\n",
    "i = 1\n",
    "for video in videos:\n",
    "    for key in videos_info.keys():\n",
    "        if key == 'q':\n",
    "            item = recipe_list[34]\n",
    "            videos_info[key].append(item)\n",
    "        if key == 'rank':\n",
    "            videos_info[key].append(i)\n",
    "            i = i + 1 \n",
    "        if key == 'title':\n",
    "            videos_info[key].append(video['snippet']['title'])\n",
    "        if key == 'description':\n",
    "            videos_info[key].append(video['snippet']['description'])\n",
    "        if key == 'channelTitle':\n",
    "            videos_info[key].append(video['snippet']['channelTitle'])"
   ]
  },
  {
   "cell_type": "code",
   "execution_count": 351,
   "metadata": {
    "collapsed": true
   },
   "outputs": [],
   "source": [
    "request = youtube.search().list(q=recipe_list[35], part='snippet', maxResults=5, type='video')\n",
    "res = request.execute()\n",
    "videos = res['items']\n",
    "\n",
    "i = 1\n",
    "for video in videos:\n",
    "    for key in videos_info.keys():\n",
    "        if key == 'q':\n",
    "            item = recipe_list[35]\n",
    "            videos_info[key].append(item)\n",
    "        if key == 'rank':\n",
    "            videos_info[key].append(i)\n",
    "            i = i + 1 \n",
    "        if key == 'title':\n",
    "            videos_info[key].append(video['snippet']['title'])\n",
    "        if key == 'description':\n",
    "            videos_info[key].append(video['snippet']['description'])\n",
    "        if key == 'channelTitle':\n",
    "            videos_info[key].append(video['snippet']['channelTitle'])"
   ]
  },
  {
   "cell_type": "code",
   "execution_count": 352,
   "metadata": {
    "collapsed": true
   },
   "outputs": [],
   "source": [
    "request = youtube.search().list(q=recipe_list[36], part='snippet', maxResults=5, type='video')\n",
    "res = request.execute()\n",
    "videos = res['items']\n",
    "\n",
    "i = 1\n",
    "for video in videos:\n",
    "    for key in videos_info.keys():\n",
    "        if key == 'q':\n",
    "            item = recipe_list[36]\n",
    "            videos_info[key].append(item)\n",
    "        if key == 'rank':\n",
    "            videos_info[key].append(i)\n",
    "            i = i + 1 \n",
    "        if key == 'title':\n",
    "            videos_info[key].append(video['snippet']['title'])\n",
    "        if key == 'description':\n",
    "            videos_info[key].append(video['snippet']['description'])\n",
    "        if key == 'channelTitle':\n",
    "            videos_info[key].append(video['snippet']['channelTitle'])"
   ]
  },
  {
   "cell_type": "code",
   "execution_count": 353,
   "metadata": {
    "collapsed": true
   },
   "outputs": [],
   "source": [
    "request = youtube.search().list(q=recipe_list[37], part='snippet', maxResults=5, type='video')\n",
    "res = request.execute()\n",
    "videos = res['items']\n",
    "\n",
    "i = 1\n",
    "for video in videos:\n",
    "    for key in videos_info.keys():\n",
    "        if key == 'q':\n",
    "            item = recipe_list[37]\n",
    "            videos_info[key].append(item)\n",
    "        if key == 'rank':\n",
    "            videos_info[key].append(i)\n",
    "            i = i + 1 \n",
    "        if key == 'title':\n",
    "            videos_info[key].append(video['snippet']['title'])\n",
    "        if key == 'description':\n",
    "            videos_info[key].append(video['snippet']['description'])\n",
    "        if key == 'channelTitle':\n",
    "            videos_info[key].append(video['snippet']['channelTitle'])"
   ]
  },
  {
   "cell_type": "code",
   "execution_count": 354,
   "metadata": {
    "collapsed": true
   },
   "outputs": [],
   "source": [
    "request = youtube.search().list(q=recipe_list[38], part='snippet', maxResults=5, type='video')\n",
    "res = request.execute()\n",
    "videos = res['items']\n",
    "\n",
    "i = 1\n",
    "for video in videos:\n",
    "    for key in videos_info.keys():\n",
    "        if key == 'q':\n",
    "            item = recipe_list[38]\n",
    "            videos_info[key].append(item)\n",
    "        if key == 'rank':\n",
    "            videos_info[key].append(i)\n",
    "            i = i + 1 \n",
    "        if key == 'title':\n",
    "            videos_info[key].append(video['snippet']['title'])\n",
    "        if key == 'description':\n",
    "            videos_info[key].append(video['snippet']['description'])\n",
    "        if key == 'channelTitle':\n",
    "            videos_info[key].append(video['snippet']['channelTitle'])"
   ]
  },
  {
   "cell_type": "code",
   "execution_count": 355,
   "metadata": {
    "collapsed": true
   },
   "outputs": [],
   "source": [
    "request = youtube.search().list(q=recipe_list[39], part='snippet', maxResults=5, type='video')\n",
    "res = request.execute()\n",
    "videos = res['items']\n",
    "\n",
    "i = 1\n",
    "for video in videos:\n",
    "    for key in videos_info.keys():\n",
    "        if key == 'q':\n",
    "            item = recipe_list[39]\n",
    "            videos_info[key].append(item)\n",
    "        if key == 'rank':\n",
    "            videos_info[key].append(i)\n",
    "            i = i + 1 \n",
    "        if key == 'title':\n",
    "            videos_info[key].append(video['snippet']['title'])\n",
    "        if key == 'description':\n",
    "            videos_info[key].append(video['snippet']['description'])\n",
    "        if key == 'channelTitle':\n",
    "            videos_info[key].append(video['snippet']['channelTitle'])"
   ]
  },
  {
   "cell_type": "code",
   "execution_count": 356,
   "metadata": {},
   "outputs": [
    {
     "data": {
      "text/html": [
       "<div>\n",
       "<style scoped>\n",
       "    .dataframe tbody tr th:only-of-type {\n",
       "        vertical-align: middle;\n",
       "    }\n",
       "\n",
       "    .dataframe tbody tr th {\n",
       "        vertical-align: top;\n",
       "    }\n",
       "\n",
       "    .dataframe thead th {\n",
       "        text-align: right;\n",
       "    }\n",
       "</style>\n",
       "<table border=\"1\" class=\"dataframe\">\n",
       "  <thead>\n",
       "    <tr style=\"text-align: right;\">\n",
       "      <th></th>\n",
       "      <th>q</th>\n",
       "      <th>rank</th>\n",
       "      <th>title</th>\n",
       "      <th>description</th>\n",
       "      <th>channelTitle</th>\n",
       "    </tr>\n",
       "  </thead>\n",
       "  <tbody>\n",
       "    <tr>\n",
       "      <th>0</th>\n",
       "      <td>Cinnamon French Toast Recipe</td>\n",
       "      <td>1</td>\n",
       "      <td>Light and Creamy Cheesecake Recipe</td>\n",
       "      <td>My creamy, fluffy, easy cheesecake recipe is p...</td>\n",
       "      <td>Preppy Kitchen</td>\n",
       "    </tr>\n",
       "    <tr>\n",
       "      <th>1</th>\n",
       "      <td>Cinnamon French Toast Recipe</td>\n",
       "      <td>2</td>\n",
       "      <td>The Best New York Cheesecake Recipe | Emojoie ...</td>\n",
       "      <td>Ingredients Ø18cm 120g biscuits 60g melted but...</td>\n",
       "      <td>EMOJOIE CUISINE</td>\n",
       "    </tr>\n",
       "    <tr>\n",
       "      <th>2</th>\n",
       "      <td>Cinnamon French Toast Recipe</td>\n",
       "      <td>3</td>\n",
       "      <td>Easy Cheesecake Recipe</td>\n",
       "      <td>NOTE: Mistyped ingredient. USE 1 1/4 CUP SOUR ...</td>\n",
       "      <td>El Mundo Eats</td>\n",
       "    </tr>\n",
       "    <tr>\n",
       "      <th>3</th>\n",
       "      <td>Cinnamon French Toast Recipe</td>\n",
       "      <td>4</td>\n",
       "      <td>How to Make the Creamiest Cheesecake</td>\n",
       "      <td>Check us out on Facebook! - facebook.com/buzzf...</td>\n",
       "      <td>Tasty</td>\n",
       "    </tr>\n",
       "    <tr>\n",
       "      <th>4</th>\n",
       "      <td>Cinnamon French Toast Recipe</td>\n",
       "      <td>5</td>\n",
       "      <td>How to make the PERFECT CHEESECAKE with Cherry...</td>\n",
       "      <td>Homemade cheesecake is easy and everyone will ...</td>\n",
       "      <td>Natashas Kitchen</td>\n",
       "    </tr>\n",
       "  </tbody>\n",
       "</table>\n",
       "</div>"
      ],
      "text/plain": [
       "                              q  rank  \\\n",
       "0  Cinnamon French Toast Recipe     1   \n",
       "1  Cinnamon French Toast Recipe     2   \n",
       "2  Cinnamon French Toast Recipe     3   \n",
       "3  Cinnamon French Toast Recipe     4   \n",
       "4  Cinnamon French Toast Recipe     5   \n",
       "\n",
       "                                               title  \\\n",
       "0                 Light and Creamy Cheesecake Recipe   \n",
       "1  The Best New York Cheesecake Recipe | Emojoie ...   \n",
       "2                             Easy Cheesecake Recipe   \n",
       "3               How to Make the Creamiest Cheesecake   \n",
       "4  How to make the PERFECT CHEESECAKE with Cherry...   \n",
       "\n",
       "                                         description      channelTitle  \n",
       "0  My creamy, fluffy, easy cheesecake recipe is p...    Preppy Kitchen  \n",
       "1  Ingredients Ø18cm 120g biscuits 60g melted but...   EMOJOIE CUISINE  \n",
       "2  NOTE: Mistyped ingredient. USE 1 1/4 CUP SOUR ...     El Mundo Eats  \n",
       "3  Check us out on Facebook! - facebook.com/buzzf...             Tasty  \n",
       "4  Homemade cheesecake is easy and everyone will ...  Natashas Kitchen  "
      ]
     },
     "execution_count": 356,
     "metadata": {},
     "output_type": "execute_result"
    }
   ],
   "source": [
    "# use youtube video dictionary to make dataframe\n",
    "youtube_popular = pd.DataFrame(data=videos_info)\n",
    "youtube_popular.head()"
   ]
  },
  {
   "cell_type": "code",
   "execution_count": 357,
   "metadata": {},
   "outputs": [
    {
     "data": {
      "text/plain": [
       "200"
      ]
     },
     "execution_count": 357,
     "metadata": {},
     "output_type": "execute_result"
    }
   ],
   "source": [
    "len(youtube_popular)"
   ]
  },
  {
   "cell_type": "code",
   "execution_count": 358,
   "metadata": {},
   "outputs": [
    {
     "data": {
      "text/html": [
       "<div>\n",
       "<style scoped>\n",
       "    .dataframe tbody tr th:only-of-type {\n",
       "        vertical-align: middle;\n",
       "    }\n",
       "\n",
       "    .dataframe tbody tr th {\n",
       "        vertical-align: top;\n",
       "    }\n",
       "\n",
       "    .dataframe thead th {\n",
       "        text-align: right;\n",
       "    }\n",
       "</style>\n",
       "<table border=\"1\" class=\"dataframe\">\n",
       "  <thead>\n",
       "    <tr style=\"text-align: right;\">\n",
       "      <th></th>\n",
       "      <th>q</th>\n",
       "      <th>rank</th>\n",
       "      <th>title</th>\n",
       "      <th>description</th>\n",
       "      <th>channelTitle</th>\n",
       "    </tr>\n",
       "  </thead>\n",
       "  <tbody>\n",
       "    <tr>\n",
       "      <th>195</th>\n",
       "      <td>Cheesecake Recipe</td>\n",
       "      <td>1</td>\n",
       "      <td>Light and Creamy Cheesecake Recipe</td>\n",
       "      <td>My creamy, fluffy, easy cheesecake recipe is p...</td>\n",
       "      <td>Preppy Kitchen</td>\n",
       "    </tr>\n",
       "    <tr>\n",
       "      <th>196</th>\n",
       "      <td>Cheesecake Recipe</td>\n",
       "      <td>2</td>\n",
       "      <td>The Best New York Cheesecake Recipe | Emojoie ...</td>\n",
       "      <td>Ingredients Ø18cm 120g biscuits 60g melted but...</td>\n",
       "      <td>EMOJOIE CUISINE</td>\n",
       "    </tr>\n",
       "    <tr>\n",
       "      <th>197</th>\n",
       "      <td>Cheesecake Recipe</td>\n",
       "      <td>3</td>\n",
       "      <td>Easy Cheesecake Recipe</td>\n",
       "      <td>NOTE: Mistyped ingredient. USE 1 1/4 CUP SOUR ...</td>\n",
       "      <td>El Mundo Eats</td>\n",
       "    </tr>\n",
       "    <tr>\n",
       "      <th>198</th>\n",
       "      <td>Cheesecake Recipe</td>\n",
       "      <td>4</td>\n",
       "      <td>How to Make the Creamiest Cheesecake</td>\n",
       "      <td>Check us out on Facebook! - facebook.com/buzzf...</td>\n",
       "      <td>Tasty</td>\n",
       "    </tr>\n",
       "    <tr>\n",
       "      <th>199</th>\n",
       "      <td>Cheesecake Recipe</td>\n",
       "      <td>5</td>\n",
       "      <td>How to make the PERFECT CHEESECAKE with Cherry...</td>\n",
       "      <td>Homemade cheesecake is easy and everyone will ...</td>\n",
       "      <td>Natashas Kitchen</td>\n",
       "    </tr>\n",
       "  </tbody>\n",
       "</table>\n",
       "</div>"
      ],
      "text/plain": [
       "                     q  rank  \\\n",
       "195  Cheesecake Recipe     1   \n",
       "196  Cheesecake Recipe     2   \n",
       "197  Cheesecake Recipe     3   \n",
       "198  Cheesecake Recipe     4   \n",
       "199  Cheesecake Recipe     5   \n",
       "\n",
       "                                                 title  \\\n",
       "195                 Light and Creamy Cheesecake Recipe   \n",
       "196  The Best New York Cheesecake Recipe | Emojoie ...   \n",
       "197                             Easy Cheesecake Recipe   \n",
       "198               How to Make the Creamiest Cheesecake   \n",
       "199  How to make the PERFECT CHEESECAKE with Cherry...   \n",
       "\n",
       "                                           description      channelTitle  \n",
       "195  My creamy, fluffy, easy cheesecake recipe is p...    Preppy Kitchen  \n",
       "196  Ingredients Ø18cm 120g biscuits 60g melted but...   EMOJOIE CUISINE  \n",
       "197  NOTE: Mistyped ingredient. USE 1 1/4 CUP SOUR ...     El Mundo Eats  \n",
       "198  Check us out on Facebook! - facebook.com/buzzf...             Tasty  \n",
       "199  Homemade cheesecake is easy and everyone will ...  Natashas Kitchen  "
      ]
     },
     "execution_count": 358,
     "metadata": {},
     "output_type": "execute_result"
    }
   ],
   "source": [
    "youtube_popular.tail()"
   ]
  },
  {
   "cell_type": "code",
   "execution_count": 274,
   "metadata": {},
   "outputs": [
    {
     "data": {
      "text/plain": [
       "(200, 5)"
      ]
     },
     "execution_count": 274,
     "metadata": {},
     "output_type": "execute_result"
    }
   ],
   "source": [
    "youtube_popular.shape"
   ]
  },
  {
   "cell_type": "code",
   "execution_count": 359,
   "metadata": {
    "collapsed": true
   },
   "outputs": [],
   "source": [
    "youtube_popular.to_csv('PopularRecipesYoutube2.csv',index=False)"
   ]
  },
  {
   "cell_type": "code",
   "execution_count": null,
   "metadata": {
    "collapsed": true
   },
   "outputs": [],
   "source": []
  }
 ],
 "metadata": {
  "kernelspec": {
   "display_name": "Python 3",
   "language": "python",
   "name": "python3"
  },
  "language_info": {
   "codemirror_mode": {
    "name": "ipython",
    "version": 3
   },
   "file_extension": ".py",
   "mimetype": "text/x-python",
   "name": "python",
   "nbconvert_exporter": "python",
   "pygments_lexer": "ipython3",
   "version": "3.6.10"
  }
 },
 "nbformat": 4,
 "nbformat_minor": 2
}
